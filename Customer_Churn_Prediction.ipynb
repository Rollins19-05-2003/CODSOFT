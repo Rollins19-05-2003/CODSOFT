{
 "cells": [
  {
   "cell_type": "code",
   "execution_count": 1,
   "metadata": {},
   "outputs": [],
   "source": [
    "import numpy as np\n",
    "import pandas as pd\n",
    "from matplotlib import pyplot as plt\n",
    "import seaborn as sns"
   ]
  },
  {
   "cell_type": "code",
   "execution_count": 2,
   "metadata": {},
   "outputs": [],
   "source": [
    "df=pd.read_csv(\"/Users/souravdeb/Documents/LEARNING/ML/Internship_Codsoft/Customer_Churn_Prediction/Churn.csv\")\n"
   ]
  },
  {
   "cell_type": "code",
   "execution_count": 3,
   "metadata": {},
   "outputs": [
    {
     "data": {
      "text/html": [
       "<div>\n",
       "<style scoped>\n",
       "    .dataframe tbody tr th:only-of-type {\n",
       "        vertical-align: middle;\n",
       "    }\n",
       "\n",
       "    .dataframe tbody tr th {\n",
       "        vertical-align: top;\n",
       "    }\n",
       "\n",
       "    .dataframe thead th {\n",
       "        text-align: right;\n",
       "    }\n",
       "</style>\n",
       "<table border=\"1\" class=\"dataframe\">\n",
       "  <thead>\n",
       "    <tr style=\"text-align: right;\">\n",
       "      <th></th>\n",
       "      <th>RowNumber</th>\n",
       "      <th>CustomerId</th>\n",
       "      <th>Surname</th>\n",
       "      <th>CreditScore</th>\n",
       "      <th>Geography</th>\n",
       "      <th>Gender</th>\n",
       "      <th>Age</th>\n",
       "      <th>Tenure</th>\n",
       "      <th>Balance</th>\n",
       "      <th>NumOfProducts</th>\n",
       "      <th>HasCrCard</th>\n",
       "      <th>IsActiveMember</th>\n",
       "      <th>EstimatedSalary</th>\n",
       "      <th>Exited</th>\n",
       "    </tr>\n",
       "  </thead>\n",
       "  <tbody>\n",
       "    <tr>\n",
       "      <th>0</th>\n",
       "      <td>1</td>\n",
       "      <td>15634602</td>\n",
       "      <td>Hargrave</td>\n",
       "      <td>619</td>\n",
       "      <td>France</td>\n",
       "      <td>Female</td>\n",
       "      <td>42</td>\n",
       "      <td>2</td>\n",
       "      <td>0.00</td>\n",
       "      <td>1</td>\n",
       "      <td>1</td>\n",
       "      <td>1</td>\n",
       "      <td>101348.88</td>\n",
       "      <td>1</td>\n",
       "    </tr>\n",
       "    <tr>\n",
       "      <th>1</th>\n",
       "      <td>2</td>\n",
       "      <td>15647311</td>\n",
       "      <td>Hill</td>\n",
       "      <td>608</td>\n",
       "      <td>Spain</td>\n",
       "      <td>Female</td>\n",
       "      <td>41</td>\n",
       "      <td>1</td>\n",
       "      <td>83807.86</td>\n",
       "      <td>1</td>\n",
       "      <td>0</td>\n",
       "      <td>1</td>\n",
       "      <td>112542.58</td>\n",
       "      <td>0</td>\n",
       "    </tr>\n",
       "    <tr>\n",
       "      <th>2</th>\n",
       "      <td>3</td>\n",
       "      <td>15619304</td>\n",
       "      <td>Onio</td>\n",
       "      <td>502</td>\n",
       "      <td>France</td>\n",
       "      <td>Female</td>\n",
       "      <td>42</td>\n",
       "      <td>8</td>\n",
       "      <td>159660.80</td>\n",
       "      <td>3</td>\n",
       "      <td>1</td>\n",
       "      <td>0</td>\n",
       "      <td>113931.57</td>\n",
       "      <td>1</td>\n",
       "    </tr>\n",
       "    <tr>\n",
       "      <th>3</th>\n",
       "      <td>4</td>\n",
       "      <td>15701354</td>\n",
       "      <td>Boni</td>\n",
       "      <td>699</td>\n",
       "      <td>France</td>\n",
       "      <td>Female</td>\n",
       "      <td>39</td>\n",
       "      <td>1</td>\n",
       "      <td>0.00</td>\n",
       "      <td>2</td>\n",
       "      <td>0</td>\n",
       "      <td>0</td>\n",
       "      <td>93826.63</td>\n",
       "      <td>0</td>\n",
       "    </tr>\n",
       "    <tr>\n",
       "      <th>4</th>\n",
       "      <td>5</td>\n",
       "      <td>15737888</td>\n",
       "      <td>Mitchell</td>\n",
       "      <td>850</td>\n",
       "      <td>Spain</td>\n",
       "      <td>Female</td>\n",
       "      <td>43</td>\n",
       "      <td>2</td>\n",
       "      <td>125510.82</td>\n",
       "      <td>1</td>\n",
       "      <td>1</td>\n",
       "      <td>1</td>\n",
       "      <td>79084.10</td>\n",
       "      <td>0</td>\n",
       "    </tr>\n",
       "  </tbody>\n",
       "</table>\n",
       "</div>"
      ],
      "text/plain": [
       "   RowNumber  CustomerId   Surname  CreditScore Geography  Gender  Age  \\\n",
       "0          1    15634602  Hargrave          619    France  Female   42   \n",
       "1          2    15647311      Hill          608     Spain  Female   41   \n",
       "2          3    15619304      Onio          502    France  Female   42   \n",
       "3          4    15701354      Boni          699    France  Female   39   \n",
       "4          5    15737888  Mitchell          850     Spain  Female   43   \n",
       "\n",
       "   Tenure    Balance  NumOfProducts  HasCrCard  IsActiveMember  \\\n",
       "0       2       0.00              1          1               1   \n",
       "1       1   83807.86              1          0               1   \n",
       "2       8  159660.80              3          1               0   \n",
       "3       1       0.00              2          0               0   \n",
       "4       2  125510.82              1          1               1   \n",
       "\n",
       "   EstimatedSalary  Exited  \n",
       "0        101348.88       1  \n",
       "1        112542.58       0  \n",
       "2        113931.57       1  \n",
       "3         93826.63       0  \n",
       "4         79084.10       0  "
      ]
     },
     "execution_count": 3,
     "metadata": {},
     "output_type": "execute_result"
    }
   ],
   "source": [
    "df.head()"
   ]
  },
  {
   "cell_type": "code",
   "execution_count": 4,
   "metadata": {},
   "outputs": [
    {
     "data": {
      "text/plain": [
       "RowNumber          0\n",
       "CustomerId         0\n",
       "Surname            0\n",
       "CreditScore        0\n",
       "Geography          0\n",
       "Gender             0\n",
       "Age                0\n",
       "Tenure             0\n",
       "Balance            0\n",
       "NumOfProducts      0\n",
       "HasCrCard          0\n",
       "IsActiveMember     0\n",
       "EstimatedSalary    0\n",
       "Exited             0\n",
       "dtype: int64"
      ]
     },
     "execution_count": 4,
     "metadata": {},
     "output_type": "execute_result"
    }
   ],
   "source": [
    "df.isnull().sum() #no null value present\n"
   ]
  },
  {
   "cell_type": "code",
   "execution_count": 5,
   "metadata": {},
   "outputs": [
    {
     "data": {
      "text/html": [
       "<div>\n",
       "<style scoped>\n",
       "    .dataframe tbody tr th:only-of-type {\n",
       "        vertical-align: middle;\n",
       "    }\n",
       "\n",
       "    .dataframe tbody tr th {\n",
       "        vertical-align: top;\n",
       "    }\n",
       "\n",
       "    .dataframe thead th {\n",
       "        text-align: right;\n",
       "    }\n",
       "</style>\n",
       "<table border=\"1\" class=\"dataframe\">\n",
       "  <thead>\n",
       "    <tr style=\"text-align: right;\">\n",
       "      <th></th>\n",
       "      <th>RowNumber</th>\n",
       "      <th>CustomerId</th>\n",
       "      <th>CreditScore</th>\n",
       "      <th>Age</th>\n",
       "      <th>Tenure</th>\n",
       "      <th>Balance</th>\n",
       "      <th>NumOfProducts</th>\n",
       "      <th>HasCrCard</th>\n",
       "      <th>IsActiveMember</th>\n",
       "      <th>EstimatedSalary</th>\n",
       "      <th>Exited</th>\n",
       "    </tr>\n",
       "  </thead>\n",
       "  <tbody>\n",
       "    <tr>\n",
       "      <th>count</th>\n",
       "      <td>10000.00000</td>\n",
       "      <td>1.000000e+04</td>\n",
       "      <td>10000.000000</td>\n",
       "      <td>10000.000000</td>\n",
       "      <td>10000.000000</td>\n",
       "      <td>10000.000000</td>\n",
       "      <td>10000.000000</td>\n",
       "      <td>10000.00000</td>\n",
       "      <td>10000.000000</td>\n",
       "      <td>10000.000000</td>\n",
       "      <td>10000.000000</td>\n",
       "    </tr>\n",
       "    <tr>\n",
       "      <th>mean</th>\n",
       "      <td>5000.50000</td>\n",
       "      <td>1.569094e+07</td>\n",
       "      <td>650.528800</td>\n",
       "      <td>38.921800</td>\n",
       "      <td>5.012800</td>\n",
       "      <td>76485.889288</td>\n",
       "      <td>1.530200</td>\n",
       "      <td>0.70550</td>\n",
       "      <td>0.515100</td>\n",
       "      <td>100090.239881</td>\n",
       "      <td>0.203700</td>\n",
       "    </tr>\n",
       "    <tr>\n",
       "      <th>std</th>\n",
       "      <td>2886.89568</td>\n",
       "      <td>7.193619e+04</td>\n",
       "      <td>96.653299</td>\n",
       "      <td>10.487806</td>\n",
       "      <td>2.892174</td>\n",
       "      <td>62397.405202</td>\n",
       "      <td>0.581654</td>\n",
       "      <td>0.45584</td>\n",
       "      <td>0.499797</td>\n",
       "      <td>57510.492818</td>\n",
       "      <td>0.402769</td>\n",
       "    </tr>\n",
       "    <tr>\n",
       "      <th>min</th>\n",
       "      <td>1.00000</td>\n",
       "      <td>1.556570e+07</td>\n",
       "      <td>350.000000</td>\n",
       "      <td>18.000000</td>\n",
       "      <td>0.000000</td>\n",
       "      <td>0.000000</td>\n",
       "      <td>1.000000</td>\n",
       "      <td>0.00000</td>\n",
       "      <td>0.000000</td>\n",
       "      <td>11.580000</td>\n",
       "      <td>0.000000</td>\n",
       "    </tr>\n",
       "    <tr>\n",
       "      <th>25%</th>\n",
       "      <td>2500.75000</td>\n",
       "      <td>1.562853e+07</td>\n",
       "      <td>584.000000</td>\n",
       "      <td>32.000000</td>\n",
       "      <td>3.000000</td>\n",
       "      <td>0.000000</td>\n",
       "      <td>1.000000</td>\n",
       "      <td>0.00000</td>\n",
       "      <td>0.000000</td>\n",
       "      <td>51002.110000</td>\n",
       "      <td>0.000000</td>\n",
       "    </tr>\n",
       "    <tr>\n",
       "      <th>50%</th>\n",
       "      <td>5000.50000</td>\n",
       "      <td>1.569074e+07</td>\n",
       "      <td>652.000000</td>\n",
       "      <td>37.000000</td>\n",
       "      <td>5.000000</td>\n",
       "      <td>97198.540000</td>\n",
       "      <td>1.000000</td>\n",
       "      <td>1.00000</td>\n",
       "      <td>1.000000</td>\n",
       "      <td>100193.915000</td>\n",
       "      <td>0.000000</td>\n",
       "    </tr>\n",
       "    <tr>\n",
       "      <th>75%</th>\n",
       "      <td>7500.25000</td>\n",
       "      <td>1.575323e+07</td>\n",
       "      <td>718.000000</td>\n",
       "      <td>44.000000</td>\n",
       "      <td>7.000000</td>\n",
       "      <td>127644.240000</td>\n",
       "      <td>2.000000</td>\n",
       "      <td>1.00000</td>\n",
       "      <td>1.000000</td>\n",
       "      <td>149388.247500</td>\n",
       "      <td>0.000000</td>\n",
       "    </tr>\n",
       "    <tr>\n",
       "      <th>max</th>\n",
       "      <td>10000.00000</td>\n",
       "      <td>1.581569e+07</td>\n",
       "      <td>850.000000</td>\n",
       "      <td>92.000000</td>\n",
       "      <td>10.000000</td>\n",
       "      <td>250898.090000</td>\n",
       "      <td>4.000000</td>\n",
       "      <td>1.00000</td>\n",
       "      <td>1.000000</td>\n",
       "      <td>199992.480000</td>\n",
       "      <td>1.000000</td>\n",
       "    </tr>\n",
       "  </tbody>\n",
       "</table>\n",
       "</div>"
      ],
      "text/plain": [
       "         RowNumber    CustomerId   CreditScore           Age        Tenure  \\\n",
       "count  10000.00000  1.000000e+04  10000.000000  10000.000000  10000.000000   \n",
       "mean    5000.50000  1.569094e+07    650.528800     38.921800      5.012800   \n",
       "std     2886.89568  7.193619e+04     96.653299     10.487806      2.892174   \n",
       "min        1.00000  1.556570e+07    350.000000     18.000000      0.000000   \n",
       "25%     2500.75000  1.562853e+07    584.000000     32.000000      3.000000   \n",
       "50%     5000.50000  1.569074e+07    652.000000     37.000000      5.000000   \n",
       "75%     7500.25000  1.575323e+07    718.000000     44.000000      7.000000   \n",
       "max    10000.00000  1.581569e+07    850.000000     92.000000     10.000000   \n",
       "\n",
       "             Balance  NumOfProducts    HasCrCard  IsActiveMember  \\\n",
       "count   10000.000000   10000.000000  10000.00000    10000.000000   \n",
       "mean    76485.889288       1.530200      0.70550        0.515100   \n",
       "std     62397.405202       0.581654      0.45584        0.499797   \n",
       "min         0.000000       1.000000      0.00000        0.000000   \n",
       "25%         0.000000       1.000000      0.00000        0.000000   \n",
       "50%     97198.540000       1.000000      1.00000        1.000000   \n",
       "75%    127644.240000       2.000000      1.00000        1.000000   \n",
       "max    250898.090000       4.000000      1.00000        1.000000   \n",
       "\n",
       "       EstimatedSalary        Exited  \n",
       "count     10000.000000  10000.000000  \n",
       "mean     100090.239881      0.203700  \n",
       "std       57510.492818      0.402769  \n",
       "min          11.580000      0.000000  \n",
       "25%       51002.110000      0.000000  \n",
       "50%      100193.915000      0.000000  \n",
       "75%      149388.247500      0.000000  \n",
       "max      199992.480000      1.000000  "
      ]
     },
     "execution_count": 5,
     "metadata": {},
     "output_type": "execute_result"
    }
   ],
   "source": [
    "df.describe()"
   ]
  },
  {
   "cell_type": "code",
   "execution_count": 6,
   "metadata": {},
   "outputs": [
    {
     "name": "stdout",
     "output_type": "stream",
     "text": [
      "<class 'pandas.core.frame.DataFrame'>\n",
      "RangeIndex: 10000 entries, 0 to 9999\n",
      "Data columns (total 14 columns):\n",
      " #   Column           Non-Null Count  Dtype  \n",
      "---  ------           --------------  -----  \n",
      " 0   RowNumber        10000 non-null  int64  \n",
      " 1   CustomerId       10000 non-null  int64  \n",
      " 2   Surname          10000 non-null  object \n",
      " 3   CreditScore      10000 non-null  int64  \n",
      " 4   Geography        10000 non-null  object \n",
      " 5   Gender           10000 non-null  object \n",
      " 6   Age              10000 non-null  int64  \n",
      " 7   Tenure           10000 non-null  int64  \n",
      " 8   Balance          10000 non-null  float64\n",
      " 9   NumOfProducts    10000 non-null  int64  \n",
      " 10  HasCrCard        10000 non-null  int64  \n",
      " 11  IsActiveMember   10000 non-null  int64  \n",
      " 12  EstimatedSalary  10000 non-null  float64\n",
      " 13  Exited           10000 non-null  int64  \n",
      "dtypes: float64(2), int64(9), object(3)\n",
      "memory usage: 1.1+ MB\n"
     ]
    }
   ],
   "source": [
    "df.info()"
   ]
  },
  {
   "cell_type": "code",
   "execution_count": 7,
   "metadata": {},
   "outputs": [
    {
     "data": {
      "text/plain": [
       "Geography\n",
       "France     5014\n",
       "Germany    2509\n",
       "Spain      2477\n",
       "Name: count, dtype: int64"
      ]
     },
     "execution_count": 7,
     "metadata": {},
     "output_type": "execute_result"
    }
   ],
   "source": [
    "df['Geography'].value_counts()"
   ]
  },
  {
   "cell_type": "code",
   "execution_count": 8,
   "metadata": {},
   "outputs": [
    {
     "data": {
      "text/plain": [
       "Text(0.5, 1.0, 'Comparsion betweeen Countries and Customers')"
      ]
     },
     "execution_count": 8,
     "metadata": {},
     "output_type": "execute_result"
    },
    {
     "data": {
      "image/png": "[encoded data removed]",
      "text/plain": [
       "<Figure size 1000x600 with 1 Axes>"
      ]
     },
     "metadata": {},
     "output_type": "display_data"
    }
   ],
   "source": [
    "plt.figure(figsize=(10, 6))\n",
    "df['Geography'].value_counts().plot(kind='bar')\n",
    "plt.xlabel('Counrties Names')\n",
    "plt.ylabel('Numbers of Customers')\n",
    "plt.title(\"Comparsion betweeen Countries and Customers\")"
   ]
  },
  {
   "cell_type": "code",
   "execution_count": 9,
   "metadata": {},
   "outputs": [
    {
     "data": {
      "text/plain": [
       "Exited\n",
       "0    7963\n",
       "1    2037\n",
       "Name: count, dtype: int64"
      ]
     },
     "execution_count": 9,
     "metadata": {},
     "output_type": "execute_result"
    }
   ],
   "source": [
    "df['Exited'].value_counts()"
   ]
  },
  {
   "cell_type": "code",
   "execution_count": 10,
   "metadata": {},
   "outputs": [
    {
     "data": {
      "text/plain": [
       "Text(0.5, 1.0, 'Comparsion betweeen Exited and Customers')"
      ]
     },
     "execution_count": 10,
     "metadata": {},
     "output_type": "execute_result"
    },
    {
     "data": {
      "image/png": "[encoded data removed]",
      "text/plain": [
       "<Figure size 1000x600 with 1 Axes>"
      ]
     },
     "metadata": {},
     "output_type": "display_data"
    }
   ],
   "source": [
    "plt.figure(figsize=(10, 6))\n",
    "df['Exited'].value_counts().plot(kind='bar')\n",
    "plt.xlabel('Exited or Not Exited')\n",
    "plt.ylabel('Numbers of Customers')\n",
    "plt.title(\"Comparsion betweeen Exited and Customers\")\n"
   ]
  },
  {
   "cell_type": "code",
   "execution_count": 11,
   "metadata": {},
   "outputs": [
    {
     "data": {
      "text/plain": [
       "Gender\n",
       "Male      5457\n",
       "Female    4543\n",
       "Name: count, dtype: int64"
      ]
     },
     "execution_count": 11,
     "metadata": {},
     "output_type": "execute_result"
    }
   ],
   "source": [
    "df['Gender'].value_counts()"
   ]
  },
  {
   "cell_type": "code",
   "execution_count": 12,
   "metadata": {},
   "outputs": [
    {
     "data": {
      "text/plain": [
       "Text(0.5, 1.0, 'Comparsion betweeen Genders')"
      ]
     },
     "execution_count": 12,
     "metadata": {},
     "output_type": "execute_result"
    },
    {
     "data": {
      "image/png": "[encoded data removed]",
      "text/plain": [
       "<Figure size 1000x600 with 1 Axes>"
      ]
     },
     "metadata": {},
     "output_type": "display_data"
    }
   ],
   "source": [
    "plt.figure(figsize=(10, 6))\n",
    "df['Gender'].value_counts().plot(kind='bar')\n",
    "plt.xlabel('Gender')\n",
    "plt.ylabel('Numbers of Customers')\n",
    "plt.title(\"Comparsion betweeen Genders\")"
   ]
  },
  {
   "cell_type": "code",
   "execution_count": 13,
   "metadata": {},
   "outputs": [],
   "source": [
    "df.drop(columns = ['RowNumber','CustomerId','Surname'], inplace= True )\n",
    "#Firstly Drops RowNumber,CustomerId,Surname these columns"
   ]
  },
  {
   "cell_type": "code",
   "execution_count": 14,
   "metadata": {},
   "outputs": [
    {
     "data": {
      "image/png": "[encoded data removed]",
      "text/plain": [
       "<Figure size 1000x800 with 1 Axes>"
      ]
     },
     "metadata": {},
     "output_type": "display_data"
    }
   ],
   "source": [
    "labels = 'Exited', 'Active'\n",
    "sizes = [df.Exited[df['Exited']==1].count(), df.Exited[df['Exited']==0].count()]\n",
    "explode = (0, 0.1)\n",
    "fig1, ax1 = plt.subplots(figsize=(10, 8))\n",
    "ax1.pie(sizes, explode=explode, labels=labels, autopct='%1.1f%%',\n",
    "        shadow=True, startangle=90)\n",
    "ax1.axis('equal')\n",
    "plt.title(\"Proportion of customer churned and active\", size = 20)\n",
    "plt.show()"
   ]
  },
  {
   "cell_type": "code",
   "execution_count": 15,
   "metadata": {},
   "outputs": [
    {
     "data": {
      "text/plain": [
       "<Axes: xlabel='IsActiveMember', ylabel='count'>"
      ]
     },
     "execution_count": 15,
     "metadata": {},
     "output_type": "execute_result"
    },
    {
     "data": {
      "image/png": "[encoded data removed]",
      "text/plain": [
       "<Figure size 2000x1200 with 4 Axes>"
      ]
     },
     "metadata": {},
     "output_type": "display_data"
    }
   ],
   "source": [
    "fig, axarr = plt.subplots(2, 2, figsize=(20, 12))\n",
    "sns.countplot(x='Geography', hue = 'Exited',data = df, ax=axarr[0][0])\n",
    "sns.countplot(x='Gender', hue = 'Exited',data = df, ax=axarr[0][1])\n",
    "sns.countplot(x='HasCrCard', hue = 'Exited',data = df, ax=axarr[1][0])\n",
    "sns.countplot(x='IsActiveMember', hue = 'Exited',data = df, ax=axarr[1][1])\n"
   ]
  },
  {
   "cell_type": "code",
   "execution_count": 16,
   "metadata": {},
   "outputs": [
    {
     "data": {
      "text/plain": [
       "<Axes: xlabel='Exited', ylabel='EstimatedSalary'>"
      ]
     },
     "execution_count": 16,
     "metadata": {},
     "output_type": "execute_result"
    },
    {
     "data": {
      "image/png": "[encoded data removed]",
      "text/plain": [
       "<Figure size 1000x500 with 6 Axes>"
      ]
     },
     "metadata": {},
     "output_type": "display_data"
    }
   ],
   "source": [
    "fig, axarr = plt.subplots(3, 2, figsize=(10, 5))\n",
    "sns.boxplot(y='CreditScore',x = 'Exited', hue = 'Exited',data = df, ax=axarr[0][0])\n",
    "sns.boxplot(y='Age',x = 'Exited', hue = 'Exited',data = df , ax=axarr[0][1])\n",
    "sns.boxplot(y='Tenure',x = 'Exited', hue = 'Exited',data = df, ax=axarr[1][0])\n",
    "sns.boxplot(y='Balance',x = 'Exited', hue = 'Exited',data = df, ax=axarr[1][1])\n",
    "sns.boxplot(y='NumOfProducts',x = 'Exited', hue = 'Exited',data = df, ax=axarr[2][0])\n",
    "sns.boxplot(y='EstimatedSalary',x = 'Exited', hue = 'Exited',data = df, ax=axarr[2][1])\n"
   ]
  },
  {
   "cell_type": "code",
   "execution_count": 17,
   "metadata": {},
   "outputs": [
    {
     "data": {
      "text/html": [
       "<div>\n",
       "<style scoped>\n",
       "    .dataframe tbody tr th:only-of-type {\n",
       "        vertical-align: middle;\n",
       "    }\n",
       "\n",
       "    .dataframe tbody tr th {\n",
       "        vertical-align: top;\n",
       "    }\n",
       "\n",
       "    .dataframe thead th {\n",
       "        text-align: right;\n",
       "    }\n",
       "</style>\n",
       "<table border=\"1\" class=\"dataframe\">\n",
       "  <thead>\n",
       "    <tr style=\"text-align: right;\">\n",
       "      <th></th>\n",
       "      <th>CreditScore</th>\n",
       "      <th>Geography</th>\n",
       "      <th>Gender</th>\n",
       "      <th>Age</th>\n",
       "      <th>Tenure</th>\n",
       "      <th>Balance</th>\n",
       "      <th>NumOfProducts</th>\n",
       "      <th>HasCrCard</th>\n",
       "      <th>IsActiveMember</th>\n",
       "      <th>EstimatedSalary</th>\n",
       "      <th>Exited</th>\n",
       "    </tr>\n",
       "  </thead>\n",
       "  <tbody>\n",
       "    <tr>\n",
       "      <th>0</th>\n",
       "      <td>619</td>\n",
       "      <td>France</td>\n",
       "      <td>Female</td>\n",
       "      <td>42</td>\n",
       "      <td>2</td>\n",
       "      <td>0.00</td>\n",
       "      <td>1</td>\n",
       "      <td>1</td>\n",
       "      <td>1</td>\n",
       "      <td>101348.88</td>\n",
       "      <td>1</td>\n",
       "    </tr>\n",
       "    <tr>\n",
       "      <th>1</th>\n",
       "      <td>608</td>\n",
       "      <td>Spain</td>\n",
       "      <td>Female</td>\n",
       "      <td>41</td>\n",
       "      <td>1</td>\n",
       "      <td>83807.86</td>\n",
       "      <td>1</td>\n",
       "      <td>0</td>\n",
       "      <td>1</td>\n",
       "      <td>112542.58</td>\n",
       "      <td>0</td>\n",
       "    </tr>\n",
       "    <tr>\n",
       "      <th>2</th>\n",
       "      <td>502</td>\n",
       "      <td>France</td>\n",
       "      <td>Female</td>\n",
       "      <td>42</td>\n",
       "      <td>8</td>\n",
       "      <td>159660.80</td>\n",
       "      <td>3</td>\n",
       "      <td>1</td>\n",
       "      <td>0</td>\n",
       "      <td>113931.57</td>\n",
       "      <td>1</td>\n",
       "    </tr>\n",
       "    <tr>\n",
       "      <th>3</th>\n",
       "      <td>699</td>\n",
       "      <td>France</td>\n",
       "      <td>Female</td>\n",
       "      <td>39</td>\n",
       "      <td>1</td>\n",
       "      <td>0.00</td>\n",
       "      <td>2</td>\n",
       "      <td>0</td>\n",
       "      <td>0</td>\n",
       "      <td>93826.63</td>\n",
       "      <td>0</td>\n",
       "    </tr>\n",
       "    <tr>\n",
       "      <th>4</th>\n",
       "      <td>850</td>\n",
       "      <td>Spain</td>\n",
       "      <td>Female</td>\n",
       "      <td>43</td>\n",
       "      <td>2</td>\n",
       "      <td>125510.82</td>\n",
       "      <td>1</td>\n",
       "      <td>1</td>\n",
       "      <td>1</td>\n",
       "      <td>79084.10</td>\n",
       "      <td>0</td>\n",
       "    </tr>\n",
       "  </tbody>\n",
       "</table>\n",
       "</div>"
      ],
      "text/plain": [
       "   CreditScore Geography  Gender  Age  Tenure    Balance  NumOfProducts  \\\n",
       "0          619    France  Female   42       2       0.00              1   \n",
       "1          608     Spain  Female   41       1   83807.86              1   \n",
       "2          502    France  Female   42       8  159660.80              3   \n",
       "3          699    France  Female   39       1       0.00              2   \n",
       "4          850     Spain  Female   43       2  125510.82              1   \n",
       "\n",
       "   HasCrCard  IsActiveMember  EstimatedSalary  Exited  \n",
       "0          1               1        101348.88       1  \n",
       "1          0               1        112542.58       0  \n",
       "2          1               0        113931.57       1  \n",
       "3          0               0         93826.63       0  \n",
       "4          1               1         79084.10       0  "
      ]
     },
     "execution_count": 17,
     "metadata": {},
     "output_type": "execute_result"
    }
   ],
   "source": [
    "df.head()\n"
   ]
  },
  {
   "cell_type": "code",
   "execution_count": 18,
   "metadata": {},
   "outputs": [],
   "source": [
    "df= pd.get_dummies(df, columns= ['Geography', 'Gender'], drop_first=True)\n",
    "# Converting the categorical columns into numerical by using get_dummies function as ML,DL only works on numerical data"
   ]
  },
  {
   "cell_type": "code",
   "execution_count": 19,
   "metadata": {},
   "outputs": [
    {
     "data": {
      "text/html": [
       "<div>\n",
       "<style scoped>\n",
       "    .dataframe tbody tr th:only-of-type {\n",
       "        vertical-align: middle;\n",
       "    }\n",
       "\n",
       "    .dataframe tbody tr th {\n",
       "        vertical-align: top;\n",
       "    }\n",
       "\n",
       "    .dataframe thead th {\n",
       "        text-align: right;\n",
       "    }\n",
       "</style>\n",
       "<table border=\"1\" class=\"dataframe\">\n",
       "  <thead>\n",
       "    <tr style=\"text-align: right;\">\n",
       "      <th></th>\n",
       "      <th>CreditScore</th>\n",
       "      <th>Age</th>\n",
       "      <th>Tenure</th>\n",
       "      <th>Balance</th>\n",
       "      <th>NumOfProducts</th>\n",
       "      <th>HasCrCard</th>\n",
       "      <th>IsActiveMember</th>\n",
       "      <th>EstimatedSalary</th>\n",
       "      <th>Exited</th>\n",
       "      <th>Geography_Germany</th>\n",
       "      <th>Geography_Spain</th>\n",
       "      <th>Gender_Male</th>\n",
       "    </tr>\n",
       "  </thead>\n",
       "  <tbody>\n",
       "    <tr>\n",
       "      <th>0</th>\n",
       "      <td>619</td>\n",
       "      <td>42</td>\n",
       "      <td>2</td>\n",
       "      <td>0.00</td>\n",
       "      <td>1</td>\n",
       "      <td>1</td>\n",
       "      <td>1</td>\n",
       "      <td>101348.88</td>\n",
       "      <td>1</td>\n",
       "      <td>False</td>\n",
       "      <td>False</td>\n",
       "      <td>False</td>\n",
       "    </tr>\n",
       "    <tr>\n",
       "      <th>1</th>\n",
       "      <td>608</td>\n",
       "      <td>41</td>\n",
       "      <td>1</td>\n",
       "      <td>83807.86</td>\n",
       "      <td>1</td>\n",
       "      <td>0</td>\n",
       "      <td>1</td>\n",
       "      <td>112542.58</td>\n",
       "      <td>0</td>\n",
       "      <td>False</td>\n",
       "      <td>True</td>\n",
       "      <td>False</td>\n",
       "    </tr>\n",
       "    <tr>\n",
       "      <th>2</th>\n",
       "      <td>502</td>\n",
       "      <td>42</td>\n",
       "      <td>8</td>\n",
       "      <td>159660.80</td>\n",
       "      <td>3</td>\n",
       "      <td>1</td>\n",
       "      <td>0</td>\n",
       "      <td>113931.57</td>\n",
       "      <td>1</td>\n",
       "      <td>False</td>\n",
       "      <td>False</td>\n",
       "      <td>False</td>\n",
       "    </tr>\n",
       "    <tr>\n",
       "      <th>3</th>\n",
       "      <td>699</td>\n",
       "      <td>39</td>\n",
       "      <td>1</td>\n",
       "      <td>0.00</td>\n",
       "      <td>2</td>\n",
       "      <td>0</td>\n",
       "      <td>0</td>\n",
       "      <td>93826.63</td>\n",
       "      <td>0</td>\n",
       "      <td>False</td>\n",
       "      <td>False</td>\n",
       "      <td>False</td>\n",
       "    </tr>\n",
       "    <tr>\n",
       "      <th>4</th>\n",
       "      <td>850</td>\n",
       "      <td>43</td>\n",
       "      <td>2</td>\n",
       "      <td>125510.82</td>\n",
       "      <td>1</td>\n",
       "      <td>1</td>\n",
       "      <td>1</td>\n",
       "      <td>79084.10</td>\n",
       "      <td>0</td>\n",
       "      <td>False</td>\n",
       "      <td>True</td>\n",
       "      <td>False</td>\n",
       "    </tr>\n",
       "  </tbody>\n",
       "</table>\n",
       "</div>"
      ],
      "text/plain": [
       "   CreditScore  Age  Tenure    Balance  NumOfProducts  HasCrCard  \\\n",
       "0          619   42       2       0.00              1          1   \n",
       "1          608   41       1   83807.86              1          0   \n",
       "2          502   42       8  159660.80              3          1   \n",
       "3          699   39       1       0.00              2          0   \n",
       "4          850   43       2  125510.82              1          1   \n",
       "\n",
       "   IsActiveMember  EstimatedSalary  Exited  Geography_Germany  \\\n",
       "0               1        101348.88       1              False   \n",
       "1               1        112542.58       0              False   \n",
       "2               0        113931.57       1              False   \n",
       "3               0         93826.63       0              False   \n",
       "4               1         79084.10       0              False   \n",
       "\n",
       "   Geography_Spain  Gender_Male  \n",
       "0            False        False  \n",
       "1             True        False  \n",
       "2            False        False  \n",
       "3            False        False  \n",
       "4             True        False  "
      ]
     },
     "execution_count": 19,
     "metadata": {},
     "output_type": "execute_result"
    }
   ],
   "source": [
    "df.head()"
   ]
  },
  {
   "cell_type": "code",
   "execution_count": 20,
   "metadata": {},
   "outputs": [],
   "source": [
    "X=df.drop(columns=['Exited'])\n",
    "y=df['Exited']"
   ]
  },
  {
   "cell_type": "code",
   "execution_count": 21,
   "metadata": {},
   "outputs": [
    {
     "data": {
      "text/html": [
       "<div>\n",
       "<style scoped>\n",
       "    .dataframe tbody tr th:only-of-type {\n",
       "        vertical-align: middle;\n",
       "    }\n",
       "\n",
       "    .dataframe tbody tr th {\n",
       "        vertical-align: top;\n",
       "    }\n",
       "\n",
       "    .dataframe thead th {\n",
       "        text-align: right;\n",
       "    }\n",
       "</style>\n",
       "<table border=\"1\" class=\"dataframe\">\n",
       "  <thead>\n",
       "    <tr style=\"text-align: right;\">\n",
       "      <th></th>\n",
       "      <th>CreditScore</th>\n",
       "      <th>Age</th>\n",
       "      <th>Tenure</th>\n",
       "      <th>Balance</th>\n",
       "      <th>NumOfProducts</th>\n",
       "      <th>HasCrCard</th>\n",
       "      <th>IsActiveMember</th>\n",
       "      <th>EstimatedSalary</th>\n",
       "      <th>Exited</th>\n",
       "      <th>Geography_Germany</th>\n",
       "      <th>Geography_Spain</th>\n",
       "      <th>Gender_Male</th>\n",
       "    </tr>\n",
       "  </thead>\n",
       "  <tbody>\n",
       "    <tr>\n",
       "      <th>0</th>\n",
       "      <td>619</td>\n",
       "      <td>42</td>\n",
       "      <td>2</td>\n",
       "      <td>0.00</td>\n",
       "      <td>1</td>\n",
       "      <td>1</td>\n",
       "      <td>1</td>\n",
       "      <td>101348.88</td>\n",
       "      <td>1</td>\n",
       "      <td>False</td>\n",
       "      <td>False</td>\n",
       "      <td>False</td>\n",
       "    </tr>\n",
       "    <tr>\n",
       "      <th>1</th>\n",
       "      <td>608</td>\n",
       "      <td>41</td>\n",
       "      <td>1</td>\n",
       "      <td>83807.86</td>\n",
       "      <td>1</td>\n",
       "      <td>0</td>\n",
       "      <td>1</td>\n",
       "      <td>112542.58</td>\n",
       "      <td>0</td>\n",
       "      <td>False</td>\n",
       "      <td>True</td>\n",
       "      <td>False</td>\n",
       "    </tr>\n",
       "    <tr>\n",
       "      <th>2</th>\n",
       "      <td>502</td>\n",
       "      <td>42</td>\n",
       "      <td>8</td>\n",
       "      <td>159660.80</td>\n",
       "      <td>3</td>\n",
       "      <td>1</td>\n",
       "      <td>0</td>\n",
       "      <td>113931.57</td>\n",
       "      <td>1</td>\n",
       "      <td>False</td>\n",
       "      <td>False</td>\n",
       "      <td>False</td>\n",
       "    </tr>\n",
       "    <tr>\n",
       "      <th>3</th>\n",
       "      <td>699</td>\n",
       "      <td>39</td>\n",
       "      <td>1</td>\n",
       "      <td>0.00</td>\n",
       "      <td>2</td>\n",
       "      <td>0</td>\n",
       "      <td>0</td>\n",
       "      <td>93826.63</td>\n",
       "      <td>0</td>\n",
       "      <td>False</td>\n",
       "      <td>False</td>\n",
       "      <td>False</td>\n",
       "    </tr>\n",
       "    <tr>\n",
       "      <th>4</th>\n",
       "      <td>850</td>\n",
       "      <td>43</td>\n",
       "      <td>2</td>\n",
       "      <td>125510.82</td>\n",
       "      <td>1</td>\n",
       "      <td>1</td>\n",
       "      <td>1</td>\n",
       "      <td>79084.10</td>\n",
       "      <td>0</td>\n",
       "      <td>False</td>\n",
       "      <td>True</td>\n",
       "      <td>False</td>\n",
       "    </tr>\n",
       "  </tbody>\n",
       "</table>\n",
       "</div>"
      ],
      "text/plain": [
       "   CreditScore  Age  Tenure    Balance  NumOfProducts  HasCrCard  \\\n",
       "0          619   42       2       0.00              1          1   \n",
       "1          608   41       1   83807.86              1          0   \n",
       "2          502   42       8  159660.80              3          1   \n",
       "3          699   39       1       0.00              2          0   \n",
       "4          850   43       2  125510.82              1          1   \n",
       "\n",
       "   IsActiveMember  EstimatedSalary  Exited  Geography_Germany  \\\n",
       "0               1        101348.88       1              False   \n",
       "1               1        112542.58       0              False   \n",
       "2               0        113931.57       1              False   \n",
       "3               0         93826.63       0              False   \n",
       "4               1         79084.10       0              False   \n",
       "\n",
       "   Geography_Spain  Gender_Male  \n",
       "0            False        False  \n",
       "1             True        False  \n",
       "2            False        False  \n",
       "3            False        False  \n",
       "4             True        False  "
      ]
     },
     "execution_count": 21,
     "metadata": {},
     "output_type": "execute_result"
    }
   ],
   "source": [
    "df.head()"
   ]
  },
  {
   "cell_type": "code",
   "execution_count": 22,
   "metadata": {},
   "outputs": [],
   "source": [
    "# Data Preprocessing¶\n",
    "from sklearn.preprocessing import LabelEncoder\n",
    "le=LabelEncoder()"
   ]
  },
  {
   "cell_type": "code",
   "execution_count": 23,
   "metadata": {},
   "outputs": [
    {
     "name": "stderr",
     "output_type": "stream",
     "text": [
      "/var/folders/8r/3kxnv9fj40g9rbt724_5kr6h0000gn/T/ipykernel_5918/1696928730.py:2: DeprecationWarning: Converting `np.inexact` or `np.floating` to a dtype is deprecated. The current result is `float64` which is not strictly correct.\n",
      "  if df[column].dtype==np.number:\n",
      "/var/folders/8r/3kxnv9fj40g9rbt724_5kr6h0000gn/T/ipykernel_5918/1696928730.py:2: DeprecationWarning: Converting `np.inexact` or `np.floating` to a dtype is deprecated. The current result is `float64` which is not strictly correct.\n",
      "  if df[column].dtype==np.number:\n",
      "/var/folders/8r/3kxnv9fj40g9rbt724_5kr6h0000gn/T/ipykernel_5918/1696928730.py:2: DeprecationWarning: Converting `np.inexact` or `np.floating` to a dtype is deprecated. The current result is `float64` which is not strictly correct.\n",
      "  if df[column].dtype==np.number:\n",
      "/var/folders/8r/3kxnv9fj40g9rbt724_5kr6h0000gn/T/ipykernel_5918/1696928730.py:2: DeprecationWarning: Converting `np.inexact` or `np.floating` to a dtype is deprecated. The current result is `float64` which is not strictly correct.\n",
      "  if df[column].dtype==np.number:\n",
      "/var/folders/8r/3kxnv9fj40g9rbt724_5kr6h0000gn/T/ipykernel_5918/1696928730.py:2: DeprecationWarning: Converting `np.inexact` or `np.floating` to a dtype is deprecated. The current result is `float64` which is not strictly correct.\n",
      "  if df[column].dtype==np.number:\n",
      "/var/folders/8r/3kxnv9fj40g9rbt724_5kr6h0000gn/T/ipykernel_5918/1696928730.py:2: DeprecationWarning: Converting `np.inexact` or `np.floating` to a dtype is deprecated. The current result is `float64` which is not strictly correct.\n",
      "  if df[column].dtype==np.number:\n",
      "/var/folders/8r/3kxnv9fj40g9rbt724_5kr6h0000gn/T/ipykernel_5918/1696928730.py:2: DeprecationWarning: Converting `np.inexact` or `np.floating` to a dtype is deprecated. The current result is `float64` which is not strictly correct.\n",
      "  if df[column].dtype==np.number:\n",
      "/var/folders/8r/3kxnv9fj40g9rbt724_5kr6h0000gn/T/ipykernel_5918/1696928730.py:2: DeprecationWarning: Converting `np.inexact` or `np.floating` to a dtype is deprecated. The current result is `float64` which is not strictly correct.\n",
      "  if df[column].dtype==np.number:\n",
      "/var/folders/8r/3kxnv9fj40g9rbt724_5kr6h0000gn/T/ipykernel_5918/1696928730.py:2: DeprecationWarning: Converting `np.inexact` or `np.floating` to a dtype is deprecated. The current result is `float64` which is not strictly correct.\n",
      "  if df[column].dtype==np.number:\n",
      "/var/folders/8r/3kxnv9fj40g9rbt724_5kr6h0000gn/T/ipykernel_5918/1696928730.py:2: DeprecationWarning: Converting `np.inexact` or `np.floating` to a dtype is deprecated. The current result is `float64` which is not strictly correct.\n",
      "  if df[column].dtype==np.number:\n"
     ]
    }
   ],
   "source": [
    "for column in df.columns:\n",
    "    if df[column].dtype==np.number:\n",
    "        continue\n",
    "    df[column]=le.fit_transform(df[column])"
   ]
  },
  {
   "cell_type": "code",
   "execution_count": 24,
   "metadata": {},
   "outputs": [
    {
     "data": {
      "text/html": [
       "<div>\n",
       "<style scoped>\n",
       "    .dataframe tbody tr th:only-of-type {\n",
       "        vertical-align: middle;\n",
       "    }\n",
       "\n",
       "    .dataframe tbody tr th {\n",
       "        vertical-align: top;\n",
       "    }\n",
       "\n",
       "    .dataframe thead th {\n",
       "        text-align: right;\n",
       "    }\n",
       "</style>\n",
       "<table border=\"1\" class=\"dataframe\">\n",
       "  <thead>\n",
       "    <tr style=\"text-align: right;\">\n",
       "      <th></th>\n",
       "      <th>CreditScore</th>\n",
       "      <th>Age</th>\n",
       "      <th>Tenure</th>\n",
       "      <th>Balance</th>\n",
       "      <th>NumOfProducts</th>\n",
       "      <th>HasCrCard</th>\n",
       "      <th>IsActiveMember</th>\n",
       "      <th>EstimatedSalary</th>\n",
       "      <th>Exited</th>\n",
       "      <th>Geography_Germany</th>\n",
       "      <th>Geography_Spain</th>\n",
       "      <th>Gender_Male</th>\n",
       "    </tr>\n",
       "  </thead>\n",
       "  <tbody>\n",
       "    <tr>\n",
       "      <th>0</th>\n",
       "      <td>228</td>\n",
       "      <td>24</td>\n",
       "      <td>2</td>\n",
       "      <td>0.00</td>\n",
       "      <td>0</td>\n",
       "      <td>1</td>\n",
       "      <td>1</td>\n",
       "      <td>101348.88</td>\n",
       "      <td>1</td>\n",
       "      <td>0</td>\n",
       "      <td>0</td>\n",
       "      <td>0</td>\n",
       "    </tr>\n",
       "    <tr>\n",
       "      <th>1</th>\n",
       "      <td>217</td>\n",
       "      <td>23</td>\n",
       "      <td>1</td>\n",
       "      <td>83807.86</td>\n",
       "      <td>0</td>\n",
       "      <td>0</td>\n",
       "      <td>1</td>\n",
       "      <td>112542.58</td>\n",
       "      <td>0</td>\n",
       "      <td>0</td>\n",
       "      <td>1</td>\n",
       "      <td>0</td>\n",
       "    </tr>\n",
       "    <tr>\n",
       "      <th>2</th>\n",
       "      <td>111</td>\n",
       "      <td>24</td>\n",
       "      <td>8</td>\n",
       "      <td>159660.80</td>\n",
       "      <td>2</td>\n",
       "      <td>1</td>\n",
       "      <td>0</td>\n",
       "      <td>113931.57</td>\n",
       "      <td>1</td>\n",
       "      <td>0</td>\n",
       "      <td>0</td>\n",
       "      <td>0</td>\n",
       "    </tr>\n",
       "    <tr>\n",
       "      <th>3</th>\n",
       "      <td>308</td>\n",
       "      <td>21</td>\n",
       "      <td>1</td>\n",
       "      <td>0.00</td>\n",
       "      <td>1</td>\n",
       "      <td>0</td>\n",
       "      <td>0</td>\n",
       "      <td>93826.63</td>\n",
       "      <td>0</td>\n",
       "      <td>0</td>\n",
       "      <td>0</td>\n",
       "      <td>0</td>\n",
       "    </tr>\n",
       "    <tr>\n",
       "      <th>4</th>\n",
       "      <td>459</td>\n",
       "      <td>25</td>\n",
       "      <td>2</td>\n",
       "      <td>125510.82</td>\n",
       "      <td>0</td>\n",
       "      <td>1</td>\n",
       "      <td>1</td>\n",
       "      <td>79084.10</td>\n",
       "      <td>0</td>\n",
       "      <td>0</td>\n",
       "      <td>1</td>\n",
       "      <td>0</td>\n",
       "    </tr>\n",
       "    <tr>\n",
       "      <th>...</th>\n",
       "      <td>...</td>\n",
       "      <td>...</td>\n",
       "      <td>...</td>\n",
       "      <td>...</td>\n",
       "      <td>...</td>\n",
       "      <td>...</td>\n",
       "      <td>...</td>\n",
       "      <td>...</td>\n",
       "      <td>...</td>\n",
       "      <td>...</td>\n",
       "      <td>...</td>\n",
       "      <td>...</td>\n",
       "    </tr>\n",
       "    <tr>\n",
       "      <th>9995</th>\n",
       "      <td>380</td>\n",
       "      <td>21</td>\n",
       "      <td>5</td>\n",
       "      <td>0.00</td>\n",
       "      <td>1</td>\n",
       "      <td>1</td>\n",
       "      <td>0</td>\n",
       "      <td>96270.64</td>\n",
       "      <td>0</td>\n",
       "      <td>0</td>\n",
       "      <td>0</td>\n",
       "      <td>1</td>\n",
       "    </tr>\n",
       "    <tr>\n",
       "      <th>9996</th>\n",
       "      <td>125</td>\n",
       "      <td>17</td>\n",
       "      <td>10</td>\n",
       "      <td>57369.61</td>\n",
       "      <td>0</td>\n",
       "      <td>1</td>\n",
       "      <td>1</td>\n",
       "      <td>101699.77</td>\n",
       "      <td>0</td>\n",
       "      <td>0</td>\n",
       "      <td>0</td>\n",
       "      <td>1</td>\n",
       "    </tr>\n",
       "    <tr>\n",
       "      <th>9997</th>\n",
       "      <td>318</td>\n",
       "      <td>18</td>\n",
       "      <td>7</td>\n",
       "      <td>0.00</td>\n",
       "      <td>0</td>\n",
       "      <td>0</td>\n",
       "      <td>1</td>\n",
       "      <td>42085.58</td>\n",
       "      <td>1</td>\n",
       "      <td>0</td>\n",
       "      <td>0</td>\n",
       "      <td>0</td>\n",
       "    </tr>\n",
       "    <tr>\n",
       "      <th>9998</th>\n",
       "      <td>381</td>\n",
       "      <td>24</td>\n",
       "      <td>3</td>\n",
       "      <td>75075.31</td>\n",
       "      <td>1</td>\n",
       "      <td>1</td>\n",
       "      <td>0</td>\n",
       "      <td>92888.52</td>\n",
       "      <td>1</td>\n",
       "      <td>1</td>\n",
       "      <td>0</td>\n",
       "      <td>1</td>\n",
       "    </tr>\n",
       "    <tr>\n",
       "      <th>9999</th>\n",
       "      <td>401</td>\n",
       "      <td>10</td>\n",
       "      <td>4</td>\n",
       "      <td>130142.79</td>\n",
       "      <td>0</td>\n",
       "      <td>1</td>\n",
       "      <td>0</td>\n",
       "      <td>38190.78</td>\n",
       "      <td>0</td>\n",
       "      <td>0</td>\n",
       "      <td>0</td>\n",
       "      <td>0</td>\n",
       "    </tr>\n",
       "  </tbody>\n",
       "</table>\n",
       "<p>10000 rows × 12 columns</p>\n",
       "</div>"
      ],
      "text/plain": [
       "      CreditScore  Age  Tenure    Balance  NumOfProducts  HasCrCard  \\\n",
       "0             228   24       2       0.00              0          1   \n",
       "1             217   23       1   83807.86              0          0   \n",
       "2             111   24       8  159660.80              2          1   \n",
       "3             308   21       1       0.00              1          0   \n",
       "4             459   25       2  125510.82              0          1   \n",
       "...           ...  ...     ...        ...            ...        ...   \n",
       "9995          380   21       5       0.00              1          1   \n",
       "9996          125   17      10   57369.61              0          1   \n",
       "9997          318   18       7       0.00              0          0   \n",
       "9998          381   24       3   75075.31              1          1   \n",
       "9999          401   10       4  130142.79              0          1   \n",
       "\n",
       "      IsActiveMember  EstimatedSalary  Exited  Geography_Germany  \\\n",
       "0                  1        101348.88       1                  0   \n",
       "1                  1        112542.58       0                  0   \n",
       "2                  0        113931.57       1                  0   \n",
       "3                  0         93826.63       0                  0   \n",
       "4                  1         79084.10       0                  0   \n",
       "...              ...              ...     ...                ...   \n",
       "9995               0         96270.64       0                  0   \n",
       "9996               1        101699.77       0                  0   \n",
       "9997               1         42085.58       1                  0   \n",
       "9998               0         92888.52       1                  1   \n",
       "9999               0         38190.78       0                  0   \n",
       "\n",
       "      Geography_Spain  Gender_Male  \n",
       "0                   0            0  \n",
       "1                   1            0  \n",
       "2                   0            0  \n",
       "3                   0            0  \n",
       "4                   1            0  \n",
       "...               ...          ...  \n",
       "9995                0            1  \n",
       "9996                0            1  \n",
       "9997                0            0  \n",
       "9998                0            1  \n",
       "9999                0            0  \n",
       "\n",
       "[10000 rows x 12 columns]"
      ]
     },
     "execution_count": 24,
     "metadata": {},
     "output_type": "execute_result"
    }
   ],
   "source": [
    "df"
   ]
  },
  {
   "cell_type": "code",
   "execution_count": 25,
   "metadata": {},
   "outputs": [],
   "source": [
    "# Now Split the dataset into train test split using sklearn lib\n",
    "from sklearn.model_selection import train_test_split"
   ]
  },
  {
   "cell_type": "code",
   "execution_count": 26,
   "metadata": {},
   "outputs": [],
   "source": [
    "X_train, X_test, y_train, y_test = train_test_split(X,y, test_size= 0.25, random_state=3)"
   ]
  },
  {
   "cell_type": "code",
   "execution_count": 27,
   "metadata": {},
   "outputs": [],
   "source": [
    "# Scalling the dataset (Feature Scaling)\n",
    "from sklearn.preprocessing import StandardScaler"
   ]
  },
  {
   "cell_type": "code",
   "execution_count": 28,
   "metadata": {},
   "outputs": [],
   "source": [
    "sc=StandardScaler()\n",
    "X_train=sc.fit_transform(X_train)\n",
    "X_test=sc.transform(X_test)"
   ]
  },
  {
   "cell_type": "code",
   "execution_count": 29,
   "metadata": {},
   "outputs": [],
   "source": [
    "# Building our Model\n",
    "# In this part, we model our Artificial Neural Network model.\n",
    "\n",
    "import tensorflow\n",
    "from tensorflow import keras\n",
    "from tensorflow.keras import Sequential # used for init our ANN model\n",
    "from tensorflow.keras.layers import Dense # used for different layer structure\n",
    "\n"
   ]
  },
  {
   "cell_type": "code",
   "execution_count": 30,
   "metadata": {},
   "outputs": [],
   "source": [
    "# Adding the input layer and first hidden layer\n",
    "model=Sequential([\n",
    "    Dense(6,input_dim=11,activation='relu'),\n",
    "    Dense(6,activation='relu'),\n",
    "    Dense(1,activation='sigmoid')\n",
    "])"
   ]
  },
  {
   "cell_type": "code",
   "execution_count": 31,
   "metadata": {},
   "outputs": [
    {
     "name": "stdout",
     "output_type": "stream",
     "text": [
      "Model: \"sequential\"\n",
      "_________________________________________________________________\n",
      " Layer (type)                Output Shape              Param #   \n",
      "=================================================================\n",
      " dense (Dense)               (None, 6)                 72        \n",
      "                                                                 \n",
      " dense_1 (Dense)             (None, 6)                 42        \n",
      "                                                                 \n",
      " dense_2 (Dense)             (None, 1)                 7         \n",
      "                                                                 \n",
      "=================================================================\n",
      "Total params: 121 (484.00 Byte)\n",
      "Trainable params: 121 (484.00 Byte)\n",
      "Non-trainable params: 0 (0.00 Byte)\n",
      "_________________________________________________________________\n"
     ]
    }
   ],
   "source": [
    "model.summary()"
   ]
  },
  {
   "cell_type": "code",
   "execution_count": 32,
   "metadata": {},
   "outputs": [],
   "source": [
    "model.compile(optimizer='adam',\n",
    "             loss='binary_crossentropy',\n",
    "             metrics=['accuracy'])"
   ]
  },
  {
   "cell_type": "code",
   "execution_count": 33,
   "metadata": {},
   "outputs": [
    {
     "name": "stdout",
     "output_type": "stream",
     "text": [
      "Epoch 1/100\n",
      "563/563 [==============================] - 1s 585us/step - loss: 0.5751 - accuracy: 0.7840 - val_loss: 0.5056 - val_accuracy: 0.8027\n",
      "Epoch 2/100\n",
      "563/563 [==============================] - 0s 454us/step - loss: 0.4844 - accuracy: 0.7963 - val_loss: 0.4486 - val_accuracy: 0.8053\n",
      "Epoch 3/100\n",
      "563/563 [==============================] - 0s 458us/step - loss: 0.4450 - accuracy: 0.8052 - val_loss: 0.4324 - val_accuracy: 0.8155\n",
      "Epoch 4/100\n",
      "563/563 [==============================] - 0s 454us/step - loss: 0.4302 - accuracy: 0.8103 - val_loss: 0.4267 - val_accuracy: 0.8240\n",
      "Epoch 5/100\n",
      "563/563 [==============================] - 0s 472us/step - loss: 0.4230 - accuracy: 0.8130 - val_loss: 0.4241 - val_accuracy: 0.8261\n",
      "Epoch 6/100\n",
      "563/563 [==============================] - 0s 470us/step - loss: 0.4182 - accuracy: 0.8155 - val_loss: 0.4212 - val_accuracy: 0.8299\n",
      "Epoch 7/100\n",
      "563/563 [==============================] - 0s 455us/step - loss: 0.4139 - accuracy: 0.8146 - val_loss: 0.4175 - val_accuracy: 0.8283\n",
      "Epoch 8/100\n",
      "563/563 [==============================] - 0s 452us/step - loss: 0.4105 - accuracy: 0.8167 - val_loss: 0.4126 - val_accuracy: 0.8293\n",
      "Epoch 9/100\n",
      "563/563 [==============================] - 0s 449us/step - loss: 0.4064 - accuracy: 0.8176 - val_loss: 0.4100 - val_accuracy: 0.8256\n",
      "Epoch 10/100\n",
      "563/563 [==============================] - 0s 451us/step - loss: 0.4025 - accuracy: 0.8196 - val_loss: 0.4066 - val_accuracy: 0.8208\n",
      "Epoch 11/100\n",
      "563/563 [==============================] - 0s 448us/step - loss: 0.3985 - accuracy: 0.8196 - val_loss: 0.4044 - val_accuracy: 0.8240\n",
      "Epoch 12/100\n",
      "563/563 [==============================] - 0s 461us/step - loss: 0.3947 - accuracy: 0.8222 - val_loss: 0.4000 - val_accuracy: 0.8272\n",
      "Epoch 13/100\n",
      "563/563 [==============================] - 0s 454us/step - loss: 0.3901 - accuracy: 0.8233 - val_loss: 0.3960 - val_accuracy: 0.8283\n",
      "Epoch 14/100\n",
      "563/563 [==============================] - 0s 452us/step - loss: 0.3856 - accuracy: 0.8245 - val_loss: 0.3907 - val_accuracy: 0.8336\n",
      "Epoch 15/100\n",
      "563/563 [==============================] - 0s 451us/step - loss: 0.3804 - accuracy: 0.8350 - val_loss: 0.3869 - val_accuracy: 0.8352\n",
      "Epoch 16/100\n",
      "563/563 [==============================] - 0s 452us/step - loss: 0.3742 - accuracy: 0.8428 - val_loss: 0.3830 - val_accuracy: 0.8405\n",
      "Epoch 17/100\n",
      "563/563 [==============================] - 0s 466us/step - loss: 0.3672 - accuracy: 0.8460 - val_loss: 0.3736 - val_accuracy: 0.8437\n",
      "Epoch 18/100\n",
      "563/563 [==============================] - 0s 454us/step - loss: 0.3598 - accuracy: 0.8498 - val_loss: 0.3657 - val_accuracy: 0.8464\n",
      "Epoch 19/100\n",
      "563/563 [==============================] - 0s 450us/step - loss: 0.3542 - accuracy: 0.8542 - val_loss: 0.3648 - val_accuracy: 0.8496\n",
      "Epoch 20/100\n",
      "563/563 [==============================] - 0s 452us/step - loss: 0.3503 - accuracy: 0.8572 - val_loss: 0.3613 - val_accuracy: 0.8501\n",
      "Epoch 21/100\n",
      "563/563 [==============================] - 0s 461us/step - loss: 0.3463 - accuracy: 0.8576 - val_loss: 0.3609 - val_accuracy: 0.8496\n",
      "Epoch 22/100\n",
      "563/563 [==============================] - 0s 451us/step - loss: 0.3437 - accuracy: 0.8594 - val_loss: 0.3542 - val_accuracy: 0.8549\n",
      "Epoch 23/100\n",
      "563/563 [==============================] - 0s 452us/step - loss: 0.3412 - accuracy: 0.8608 - val_loss: 0.3531 - val_accuracy: 0.8544\n",
      "Epoch 24/100\n",
      "563/563 [==============================] - 0s 454us/step - loss: 0.3391 - accuracy: 0.8610 - val_loss: 0.3529 - val_accuracy: 0.8533\n",
      "Epoch 25/100\n",
      "563/563 [==============================] - 0s 452us/step - loss: 0.3375 - accuracy: 0.8617 - val_loss: 0.3513 - val_accuracy: 0.8533\n",
      "Epoch 26/100\n",
      "563/563 [==============================] - 0s 451us/step - loss: 0.3366 - accuracy: 0.8608 - val_loss: 0.3533 - val_accuracy: 0.8549\n",
      "Epoch 27/100\n",
      "563/563 [==============================] - 0s 454us/step - loss: 0.3354 - accuracy: 0.8620 - val_loss: 0.3510 - val_accuracy: 0.8549\n",
      "Epoch 28/100\n",
      "563/563 [==============================] - 0s 454us/step - loss: 0.3345 - accuracy: 0.8636 - val_loss: 0.3500 - val_accuracy: 0.8560\n",
      "Epoch 29/100\n",
      "563/563 [==============================] - 0s 458us/step - loss: 0.3337 - accuracy: 0.8617 - val_loss: 0.3502 - val_accuracy: 0.8549\n",
      "Epoch 30/100\n",
      "563/563 [==============================] - 0s 447us/step - loss: 0.3332 - accuracy: 0.8633 - val_loss: 0.3488 - val_accuracy: 0.8544\n",
      "Epoch 31/100\n",
      "563/563 [==============================] - 0s 450us/step - loss: 0.3324 - accuracy: 0.8645 - val_loss: 0.3517 - val_accuracy: 0.8560\n",
      "Epoch 32/100\n",
      "563/563 [==============================] - 0s 451us/step - loss: 0.3319 - accuracy: 0.8601 - val_loss: 0.3504 - val_accuracy: 0.8571\n",
      "Epoch 33/100\n",
      "563/563 [==============================] - 0s 452us/step - loss: 0.3314 - accuracy: 0.8629 - val_loss: 0.3489 - val_accuracy: 0.8603\n",
      "Epoch 34/100\n",
      "563/563 [==============================] - 0s 452us/step - loss: 0.3310 - accuracy: 0.8624 - val_loss: 0.3485 - val_accuracy: 0.8624\n",
      "Epoch 35/100\n",
      "563/563 [==============================] - 0s 450us/step - loss: 0.3305 - accuracy: 0.8620 - val_loss: 0.3479 - val_accuracy: 0.8592\n",
      "Epoch 36/100\n",
      "563/563 [==============================] - 0s 454us/step - loss: 0.3299 - accuracy: 0.8626 - val_loss: 0.3491 - val_accuracy: 0.8619\n",
      "Epoch 37/100\n",
      "563/563 [==============================] - 0s 451us/step - loss: 0.3301 - accuracy: 0.8640 - val_loss: 0.3462 - val_accuracy: 0.8592\n",
      "Epoch 38/100\n",
      "563/563 [==============================] - 0s 460us/step - loss: 0.3295 - accuracy: 0.8644 - val_loss: 0.3473 - val_accuracy: 0.8603\n",
      "Epoch 39/100\n",
      "563/563 [==============================] - 0s 481us/step - loss: 0.3292 - accuracy: 0.8622 - val_loss: 0.3474 - val_accuracy: 0.8613\n",
      "Epoch 40/100\n",
      "563/563 [==============================] - 0s 452us/step - loss: 0.3289 - accuracy: 0.8628 - val_loss: 0.3477 - val_accuracy: 0.8587\n",
      "Epoch 41/100\n",
      "563/563 [==============================] - 0s 452us/step - loss: 0.3284 - accuracy: 0.8635 - val_loss: 0.3457 - val_accuracy: 0.8629\n",
      "Epoch 42/100\n",
      "563/563 [==============================] - 0s 460us/step - loss: 0.3282 - accuracy: 0.8644 - val_loss: 0.3474 - val_accuracy: 0.8613\n",
      "Epoch 43/100\n",
      "563/563 [==============================] - 0s 454us/step - loss: 0.3279 - accuracy: 0.8651 - val_loss: 0.3491 - val_accuracy: 0.8635\n",
      "Epoch 44/100\n",
      "563/563 [==============================] - 0s 451us/step - loss: 0.3276 - accuracy: 0.8645 - val_loss: 0.3461 - val_accuracy: 0.8613\n",
      "Epoch 45/100\n",
      "563/563 [==============================] - 0s 451us/step - loss: 0.3277 - accuracy: 0.8644 - val_loss: 0.3459 - val_accuracy: 0.8624\n",
      "Epoch 46/100\n",
      "563/563 [==============================] - 0s 451us/step - loss: 0.3274 - accuracy: 0.8633 - val_loss: 0.3469 - val_accuracy: 0.8640\n",
      "Epoch 47/100\n",
      "563/563 [==============================] - 0s 451us/step - loss: 0.3265 - accuracy: 0.8640 - val_loss: 0.3478 - val_accuracy: 0.8592\n",
      "Epoch 48/100\n",
      "563/563 [==============================] - 0s 450us/step - loss: 0.3271 - accuracy: 0.8644 - val_loss: 0.3493 - val_accuracy: 0.8581\n",
      "Epoch 49/100\n",
      "563/563 [==============================] - 0s 450us/step - loss: 0.3274 - accuracy: 0.8647 - val_loss: 0.3469 - val_accuracy: 0.8608\n",
      "Epoch 50/100\n",
      "563/563 [==============================] - 0s 452us/step - loss: 0.3264 - accuracy: 0.8635 - val_loss: 0.3476 - val_accuracy: 0.8629\n",
      "Epoch 51/100\n",
      "563/563 [==============================] - 0s 450us/step - loss: 0.3272 - accuracy: 0.8647 - val_loss: 0.3466 - val_accuracy: 0.8640\n",
      "Epoch 52/100\n",
      "563/563 [==============================] - 0s 454us/step - loss: 0.3263 - accuracy: 0.8635 - val_loss: 0.3453 - val_accuracy: 0.8592\n",
      "Epoch 53/100\n",
      "563/563 [==============================] - 0s 451us/step - loss: 0.3259 - accuracy: 0.8647 - val_loss: 0.3507 - val_accuracy: 0.8635\n",
      "Epoch 54/100\n",
      "563/563 [==============================] - 0s 451us/step - loss: 0.3265 - accuracy: 0.8642 - val_loss: 0.3447 - val_accuracy: 0.8640\n",
      "Epoch 55/100\n",
      "563/563 [==============================] - 0s 448us/step - loss: 0.3263 - accuracy: 0.8652 - val_loss: 0.3458 - val_accuracy: 0.8624\n",
      "Epoch 56/100\n",
      "563/563 [==============================] - 0s 450us/step - loss: 0.3263 - accuracy: 0.8644 - val_loss: 0.3462 - val_accuracy: 0.8608\n",
      "Epoch 57/100\n",
      "563/563 [==============================] - 0s 454us/step - loss: 0.3263 - accuracy: 0.8635 - val_loss: 0.3466 - val_accuracy: 0.8629\n",
      "Epoch 58/100\n",
      "563/563 [==============================] - 0s 451us/step - loss: 0.3266 - accuracy: 0.8647 - val_loss: 0.3452 - val_accuracy: 0.8624\n",
      "Epoch 59/100\n",
      "563/563 [==============================] - 0s 451us/step - loss: 0.3263 - accuracy: 0.8644 - val_loss: 0.3443 - val_accuracy: 0.8613\n",
      "Epoch 60/100\n",
      "563/563 [==============================] - 0s 451us/step - loss: 0.3258 - accuracy: 0.8636 - val_loss: 0.3443 - val_accuracy: 0.8603\n",
      "Epoch 61/100\n",
      "563/563 [==============================] - 0s 451us/step - loss: 0.3256 - accuracy: 0.8652 - val_loss: 0.3462 - val_accuracy: 0.8608\n",
      "Epoch 62/100\n",
      "563/563 [==============================] - 0s 448us/step - loss: 0.3261 - accuracy: 0.8654 - val_loss: 0.3466 - val_accuracy: 0.8656\n",
      "Epoch 63/100\n",
      "563/563 [==============================] - 0s 455us/step - loss: 0.3252 - accuracy: 0.8644 - val_loss: 0.3460 - val_accuracy: 0.8635\n",
      "Epoch 64/100\n",
      "563/563 [==============================] - 0s 473us/step - loss: 0.3256 - accuracy: 0.8652 - val_loss: 0.3446 - val_accuracy: 0.8619\n",
      "Epoch 65/100\n",
      "563/563 [==============================] - 0s 447us/step - loss: 0.3255 - accuracy: 0.8652 - val_loss: 0.3483 - val_accuracy: 0.8592\n",
      "Epoch 66/100\n",
      "563/563 [==============================] - 0s 452us/step - loss: 0.3257 - accuracy: 0.8647 - val_loss: 0.3459 - val_accuracy: 0.8603\n",
      "Epoch 67/100\n",
      "563/563 [==============================] - 0s 464us/step - loss: 0.3254 - accuracy: 0.8654 - val_loss: 0.3449 - val_accuracy: 0.8624\n",
      "Epoch 68/100\n",
      "563/563 [==============================] - 0s 450us/step - loss: 0.3251 - accuracy: 0.8652 - val_loss: 0.3456 - val_accuracy: 0.8624\n",
      "Epoch 69/100\n",
      "563/563 [==============================] - 0s 461us/step - loss: 0.3251 - accuracy: 0.8656 - val_loss: 0.3443 - val_accuracy: 0.8613\n",
      "Epoch 70/100\n",
      "563/563 [==============================] - 0s 489us/step - loss: 0.3252 - accuracy: 0.8644 - val_loss: 0.3460 - val_accuracy: 0.8635\n",
      "Epoch 71/100\n",
      "563/563 [==============================] - 0s 548us/step - loss: 0.3252 - accuracy: 0.8652 - val_loss: 0.3447 - val_accuracy: 0.8608\n",
      "Epoch 72/100\n",
      "563/563 [==============================] - 0s 479us/step - loss: 0.3249 - accuracy: 0.8656 - val_loss: 0.3450 - val_accuracy: 0.8603\n",
      "Epoch 73/100\n",
      "563/563 [==============================] - 0s 479us/step - loss: 0.3252 - accuracy: 0.8654 - val_loss: 0.3454 - val_accuracy: 0.8624\n",
      "Epoch 74/100\n",
      "563/563 [==============================] - 0s 445us/step - loss: 0.3251 - accuracy: 0.8656 - val_loss: 0.3470 - val_accuracy: 0.8613\n",
      "Epoch 75/100\n",
      "563/563 [==============================] - 0s 494us/step - loss: 0.3254 - accuracy: 0.8649 - val_loss: 0.3440 - val_accuracy: 0.8613\n",
      "Epoch 76/100\n",
      "563/563 [==============================] - 0s 542us/step - loss: 0.3251 - accuracy: 0.8642 - val_loss: 0.3462 - val_accuracy: 0.8619\n",
      "Epoch 77/100\n",
      "563/563 [==============================] - 0s 505us/step - loss: 0.3246 - accuracy: 0.8654 - val_loss: 0.3487 - val_accuracy: 0.8624\n",
      "Epoch 78/100\n",
      "563/563 [==============================] - 0s 455us/step - loss: 0.3242 - accuracy: 0.8663 - val_loss: 0.3474 - val_accuracy: 0.8629\n",
      "Epoch 79/100\n",
      "563/563 [==============================] - 0s 436us/step - loss: 0.3249 - accuracy: 0.8651 - val_loss: 0.3446 - val_accuracy: 0.8640\n",
      "Epoch 80/100\n",
      "563/563 [==============================] - 0s 443us/step - loss: 0.3248 - accuracy: 0.8652 - val_loss: 0.3446 - val_accuracy: 0.8608\n",
      "Epoch 81/100\n",
      "563/563 [==============================] - 0s 442us/step - loss: 0.3251 - accuracy: 0.8647 - val_loss: 0.3449 - val_accuracy: 0.8619\n",
      "Epoch 82/100\n",
      "563/563 [==============================] - 0s 437us/step - loss: 0.3252 - accuracy: 0.8670 - val_loss: 0.3448 - val_accuracy: 0.8629\n",
      "Epoch 83/100\n",
      "563/563 [==============================] - 0s 470us/step - loss: 0.3249 - accuracy: 0.8667 - val_loss: 0.3444 - val_accuracy: 0.8603\n",
      "Epoch 84/100\n",
      "563/563 [==============================] - 0s 472us/step - loss: 0.3247 - accuracy: 0.8654 - val_loss: 0.3464 - val_accuracy: 0.8629\n",
      "Epoch 85/100\n",
      "563/563 [==============================] - 0s 506us/step - loss: 0.3245 - accuracy: 0.8640 - val_loss: 0.3440 - val_accuracy: 0.8613\n",
      "Epoch 86/100\n",
      "563/563 [==============================] - 0s 465us/step - loss: 0.3247 - accuracy: 0.8660 - val_loss: 0.3445 - val_accuracy: 0.8619\n",
      "Epoch 87/100\n",
      "563/563 [==============================] - 0s 458us/step - loss: 0.3244 - accuracy: 0.8667 - val_loss: 0.3458 - val_accuracy: 0.8613\n",
      "Epoch 88/100\n",
      "563/563 [==============================] - 0s 450us/step - loss: 0.3244 - accuracy: 0.8645 - val_loss: 0.3447 - val_accuracy: 0.8629\n",
      "Epoch 89/100\n",
      "563/563 [==============================] - 0s 449us/step - loss: 0.3246 - accuracy: 0.8644 - val_loss: 0.3467 - val_accuracy: 0.8619\n",
      "Epoch 90/100\n",
      "563/563 [==============================] - 0s 449us/step - loss: 0.3244 - accuracy: 0.8656 - val_loss: 0.3456 - val_accuracy: 0.8613\n",
      "Epoch 91/100\n",
      "563/563 [==============================] - 0s 448us/step - loss: 0.3242 - accuracy: 0.8651 - val_loss: 0.3478 - val_accuracy: 0.8640\n",
      "Epoch 92/100\n",
      "563/563 [==============================] - 0s 450us/step - loss: 0.3241 - accuracy: 0.8647 - val_loss: 0.3470 - val_accuracy: 0.8624\n",
      "Epoch 93/100\n",
      "563/563 [==============================] - 0s 447us/step - loss: 0.3245 - accuracy: 0.8645 - val_loss: 0.3465 - val_accuracy: 0.8645\n",
      "Epoch 94/100\n",
      "563/563 [==============================] - 0s 447us/step - loss: 0.3247 - accuracy: 0.8660 - val_loss: 0.3444 - val_accuracy: 0.8635\n",
      "Epoch 95/100\n",
      "563/563 [==============================] - 0s 448us/step - loss: 0.3244 - accuracy: 0.8672 - val_loss: 0.3458 - val_accuracy: 0.8597\n",
      "Epoch 96/100\n",
      "563/563 [==============================] - 0s 446us/step - loss: 0.3243 - accuracy: 0.8672 - val_loss: 0.3497 - val_accuracy: 0.8645\n",
      "Epoch 97/100\n",
      "563/563 [==============================] - 0s 448us/step - loss: 0.3241 - accuracy: 0.8649 - val_loss: 0.3450 - val_accuracy: 0.8608\n",
      "Epoch 98/100\n",
      "563/563 [==============================] - 0s 444us/step - loss: 0.3240 - accuracy: 0.8652 - val_loss: 0.3476 - val_accuracy: 0.8581\n",
      "Epoch 99/100\n",
      "563/563 [==============================] - 0s 448us/step - loss: 0.3240 - accuracy: 0.8645 - val_loss: 0.3460 - val_accuracy: 0.8613\n",
      "Epoch 100/100\n",
      "563/563 [==============================] - 0s 446us/step - loss: 0.3239 - accuracy: 0.8663 - val_loss: 0.3450 - val_accuracy: 0.8613\n"
     ]
    }
   ],
   "source": [
    "history = model.fit(X_train,y_train,batch_size=10,epochs=100,verbose=1,validation_split=0.25)\n"
   ]
  },
  {
   "cell_type": "code",
   "execution_count": 34,
   "metadata": {},
   "outputs": [
    {
     "name": "stdout",
     "output_type": "stream",
     "text": [
      "79/79 [==============================] - 0s 279us/step\n"
     ]
    },
    {
     "data": {
      "text/plain": [
       "array([[False],\n",
       "       [False],\n",
       "       [ True],\n",
       "       ...,\n",
       "       [False],\n",
       "       [False],\n",
       "       [False]])"
      ]
     },
     "execution_count": 34,
     "metadata": {},
     "output_type": "execute_result"
    }
   ],
   "source": [
    "# Making the Prediction and Accuracy Result\n",
    "# predicting the test set result\n",
    "y_pred = model.predict(X_test)\n",
    "y_pred = (y_pred>0.5)\n",
    "y_pred"
   ]
  },
  {
   "cell_type": "code",
   "execution_count": 35,
   "metadata": {},
   "outputs": [
    {
     "name": "stdout",
     "output_type": "stream",
     "text": [
      "              precision    recall  f1-score   support\n",
      "\n",
      "           0       0.87      0.96      0.91      1982\n",
      "           1       0.76      0.45      0.57       518\n",
      "\n",
      "    accuracy                           0.86      2500\n",
      "   macro avg       0.82      0.71      0.74      2500\n",
      "weighted avg       0.85      0.86      0.84      2500\n",
      "\n"
     ]
    }
   ],
   "source": [
    "from sklearn.metrics import classification_report\n",
    "print(classification_report(y_test,y_pred))"
   ]
  },
  {
   "cell_type": "code",
   "execution_count": 36,
   "metadata": {},
   "outputs": [
    {
     "name": "stdout",
     "output_type": "stream",
     "text": [
      "79/79 [==============================] - 0s 323us/step - loss: 0.3462 - accuracy: 0.8576\n",
      "Loss:  0.3462294936180115\n",
      "Accuracy:  0.8575999736785889\n"
     ]
    }
   ],
   "source": [
    "score=model.evaluate(X_test,y_test)\n",
    "print(\"Loss: \",score[0])\n",
    "print(\"Accuracy: \",score[1])"
   ]
  },
  {
   "cell_type": "code",
   "execution_count": 37,
   "metadata": {},
   "outputs": [
    {
     "data": {
      "text/plain": [
       "array([[1910,   72],\n",
       "       [ 284,  234]])"
      ]
     },
     "execution_count": 37,
     "metadata": {},
     "output_type": "execute_result"
    }
   ],
   "source": [
    "# Confusion Matrix\n",
    "from sklearn.metrics import confusion_matrix\n",
    "cm = confusion_matrix(y_test, y_pred)\n",
    "cm\n"
   ]
  },
  {
   "cell_type": "code",
   "execution_count": 38,
   "metadata": {},
   "outputs": [
    {
     "data": {
      "image/png": "[encoded data removed]",
      "text/plain": [
       "<Figure size 640x480 with 2 Axes>"
      ]
     },
     "metadata": {},
     "output_type": "display_data"
    }
   ],
   "source": [
    "ax=plt.axes()\n",
    "sns.heatmap(cm, annot=True,\n",
    "           annot_kws={'size':10},\n",
    "            ax=ax\n",
    "           )\n",
    "\n",
    "plt.title(\"Confusion Matrix\")\n",
    "plt.show()"
   ]
  },
  {
   "cell_type": "code",
   "execution_count": 39,
   "metadata": {},
   "outputs": [
    {
     "data": {
      "text/plain": [
       "0.8576"
      ]
     },
     "execution_count": 39,
     "metadata": {},
     "output_type": "execute_result"
    }
   ],
   "source": [
    "from sklearn.metrics import accuracy_score\n",
    "accuracy_score(y_test,y_pred)"
   ]
  },
  {
   "cell_type": "code",
   "execution_count": 40,
   "metadata": {},
   "outputs": [
    {
     "data": {
      "text/plain": [
       "[<matplotlib.lines.Line2D at 0x169f97a90>]"
      ]
     },
     "execution_count": 40,
     "metadata": {},
     "output_type": "execute_result"
    },
    {
     "data": {
      "image/png": "[encoded data removed]",
      "text/plain": [
       "<Figure size 640x480 with 1 Axes>"
      ]
     },
     "metadata": {},
     "output_type": "display_data"
    }
   ],
   "source": [
    "plt.plot(history.history['loss'])\n",
    "plt.plot(history.history['val_loss'])\n"
   ]
  },
  {
   "cell_type": "code",
   "execution_count": 41,
   "metadata": {},
   "outputs": [
    {
     "data": {
      "text/plain": [
       "[<matplotlib.lines.Line2D at 0x169fd2250>]"
      ]
     },
     "execution_count": 41,
     "metadata": {},
     "output_type": "execute_result"
    },
    {
     "data": {
      "image/png": "[encoded data removed]",
      "text/plain": [
       "<Figure size 640x480 with 1 Axes>"
      ]
     },
     "metadata": {},
     "output_type": "display_data"
    }
   ],
   "source": [
    "plt.plot(history.history['accuracy'])\n",
    "plt.plot(history.history['val_accuracy'])"
   ]
  },
  {
   "cell_type": "code",
   "execution_count": 42,
   "metadata": {},
   "outputs": [],
   "source": [
    "\n",
    "from sklearn import svm\n",
    "from sklearn.model_selection import GridSearchCV\n",
    "clf=GridSearchCV(svm.SVC(),{'C' :[1,10],'kernel' :['linear', 'poly', 'rbf'],'degree' :[1,2,3],'gamma' :['scale','auto']},cv=11,return_train_score=False)"
   ]
  },
  {
   "cell_type": "code",
   "execution_count": 43,
   "metadata": {},
   "outputs": [
    {
     "data": {
      "text/html": [
       "<div>\n",
       "<style scoped>\n",
       "    .dataframe tbody tr th:only-of-type {\n",
       "        vertical-align: middle;\n",
       "    }\n",
       "\n",
       "    .dataframe tbody tr th {\n",
       "        vertical-align: top;\n",
       "    }\n",
       "\n",
       "    .dataframe thead th {\n",
       "        text-align: right;\n",
       "    }\n",
       "</style>\n",
       "<table border=\"1\" class=\"dataframe\">\n",
       "  <thead>\n",
       "    <tr style=\"text-align: right;\">\n",
       "      <th></th>\n",
       "      <th>params</th>\n",
       "      <th>rank_test_score</th>\n",
       "    </tr>\n",
       "  </thead>\n",
       "  <tbody>\n",
       "    <tr>\n",
       "      <th>0</th>\n",
       "      <td>{'C': 1, 'degree': 1, 'gamma': 'scale', 'kernel': 'linear'}</td>\n",
       "      <td>21</td>\n",
       "    </tr>\n",
       "    <tr>\n",
       "      <th>1</th>\n",
       "      <td>{'C': 1, 'degree': 1, 'gamma': 'scale', 'kernel': 'poly'}</td>\n",
       "      <td>21</td>\n",
       "    </tr>\n",
       "    <tr>\n",
       "      <th>2</th>\n",
       "      <td>{'C': 1, 'degree': 1, 'gamma': 'scale', 'kernel': 'rbf'}</td>\n",
       "      <td>1</td>\n",
       "    </tr>\n",
       "    <tr>\n",
       "      <th>3</th>\n",
       "      <td>{'C': 1, 'degree': 1, 'gamma': 'auto', 'kernel': 'linear'}</td>\n",
       "      <td>21</td>\n",
       "    </tr>\n",
       "    <tr>\n",
       "      <th>4</th>\n",
       "      <td>{'C': 1, 'degree': 1, 'gamma': 'auto', 'kernel': 'poly'}</td>\n",
       "      <td>21</td>\n",
       "    </tr>\n",
       "    <tr>\n",
       "      <th>5</th>\n",
       "      <td>{'C': 1, 'degree': 1, 'gamma': 'auto', 'kernel': 'rbf'}</td>\n",
       "      <td>1</td>\n",
       "    </tr>\n",
       "    <tr>\n",
       "      <th>6</th>\n",
       "      <td>{'C': 1, 'degree': 2, 'gamma': 'scale', 'kernel': 'linear'}</td>\n",
       "      <td>21</td>\n",
       "    </tr>\n",
       "    <tr>\n",
       "      <th>7</th>\n",
       "      <td>{'C': 1, 'degree': 2, 'gamma': 'scale', 'kernel': 'poly'}</td>\n",
       "      <td>9</td>\n",
       "    </tr>\n",
       "    <tr>\n",
       "      <th>8</th>\n",
       "      <td>{'C': 1, 'degree': 2, 'gamma': 'scale', 'kernel': 'rbf'}</td>\n",
       "      <td>1</td>\n",
       "    </tr>\n",
       "    <tr>\n",
       "      <th>9</th>\n",
       "      <td>{'C': 1, 'degree': 2, 'gamma': 'auto', 'kernel': 'linear'}</td>\n",
       "      <td>21</td>\n",
       "    </tr>\n",
       "    <tr>\n",
       "      <th>10</th>\n",
       "      <td>{'C': 1, 'degree': 2, 'gamma': 'auto', 'kernel': 'poly'}</td>\n",
       "      <td>9</td>\n",
       "    </tr>\n",
       "    <tr>\n",
       "      <th>11</th>\n",
       "      <td>{'C': 1, 'degree': 2, 'gamma': 'auto', 'kernel': 'rbf'}</td>\n",
       "      <td>1</td>\n",
       "    </tr>\n",
       "    <tr>\n",
       "      <th>12</th>\n",
       "      <td>{'C': 1, 'degree': 3, 'gamma': 'scale', 'kernel': 'linear'}</td>\n",
       "      <td>21</td>\n",
       "    </tr>\n",
       "    <tr>\n",
       "      <th>13</th>\n",
       "      <td>{'C': 1, 'degree': 3, 'gamma': 'scale', 'kernel': 'poly'}</td>\n",
       "      <td>7</td>\n",
       "    </tr>\n",
       "    <tr>\n",
       "      <th>14</th>\n",
       "      <td>{'C': 1, 'degree': 3, 'gamma': 'scale', 'kernel': 'rbf'}</td>\n",
       "      <td>1</td>\n",
       "    </tr>\n",
       "    <tr>\n",
       "      <th>15</th>\n",
       "      <td>{'C': 1, 'degree': 3, 'gamma': 'auto', 'kernel': 'linear'}</td>\n",
       "      <td>21</td>\n",
       "    </tr>\n",
       "    <tr>\n",
       "      <th>16</th>\n",
       "      <td>{'C': 1, 'degree': 3, 'gamma': 'auto', 'kernel': 'poly'}</td>\n",
       "      <td>8</td>\n",
       "    </tr>\n",
       "    <tr>\n",
       "      <th>17</th>\n",
       "      <td>{'C': 1, 'degree': 3, 'gamma': 'auto', 'kernel': 'rbf'}</td>\n",
       "      <td>1</td>\n",
       "    </tr>\n",
       "    <tr>\n",
       "      <th>18</th>\n",
       "      <td>{'C': 10, 'degree': 1, 'gamma': 'scale', 'kernel': 'linear'}</td>\n",
       "      <td>21</td>\n",
       "    </tr>\n",
       "    <tr>\n",
       "      <th>19</th>\n",
       "      <td>{'C': 10, 'degree': 1, 'gamma': 'scale', 'kernel': 'poly'}</td>\n",
       "      <td>21</td>\n",
       "    </tr>\n",
       "    <tr>\n",
       "      <th>20</th>\n",
       "      <td>{'C': 10, 'degree': 1, 'gamma': 'scale', 'kernel': 'rbf'}</td>\n",
       "      <td>13</td>\n",
       "    </tr>\n",
       "    <tr>\n",
       "      <th>21</th>\n",
       "      <td>{'C': 10, 'degree': 1, 'gamma': 'auto', 'kernel': 'linear'}</td>\n",
       "      <td>21</td>\n",
       "    </tr>\n",
       "    <tr>\n",
       "      <th>22</th>\n",
       "      <td>{'C': 10, 'degree': 1, 'gamma': 'auto', 'kernel': 'poly'}</td>\n",
       "      <td>21</td>\n",
       "    </tr>\n",
       "    <tr>\n",
       "      <th>23</th>\n",
       "      <td>{'C': 10, 'degree': 1, 'gamma': 'auto', 'kernel': 'rbf'}</td>\n",
       "      <td>13</td>\n",
       "    </tr>\n",
       "    <tr>\n",
       "      <th>24</th>\n",
       "      <td>{'C': 10, 'degree': 2, 'gamma': 'scale', 'kernel': 'linear'}</td>\n",
       "      <td>21</td>\n",
       "    </tr>\n",
       "    <tr>\n",
       "      <th>25</th>\n",
       "      <td>{'C': 10, 'degree': 2, 'gamma': 'scale', 'kernel': 'poly'}</td>\n",
       "      <td>9</td>\n",
       "    </tr>\n",
       "    <tr>\n",
       "      <th>26</th>\n",
       "      <td>{'C': 10, 'degree': 2, 'gamma': 'scale', 'kernel': 'rbf'}</td>\n",
       "      <td>13</td>\n",
       "    </tr>\n",
       "    <tr>\n",
       "      <th>27</th>\n",
       "      <td>{'C': 10, 'degree': 2, 'gamma': 'auto', 'kernel': 'linear'}</td>\n",
       "      <td>21</td>\n",
       "    </tr>\n",
       "    <tr>\n",
       "      <th>28</th>\n",
       "      <td>{'C': 10, 'degree': 2, 'gamma': 'auto', 'kernel': 'poly'}</td>\n",
       "      <td>9</td>\n",
       "    </tr>\n",
       "    <tr>\n",
       "      <th>29</th>\n",
       "      <td>{'C': 10, 'degree': 2, 'gamma': 'auto', 'kernel': 'rbf'}</td>\n",
       "      <td>13</td>\n",
       "    </tr>\n",
       "    <tr>\n",
       "      <th>30</th>\n",
       "      <td>{'C': 10, 'degree': 3, 'gamma': 'scale', 'kernel': 'linear'}</td>\n",
       "      <td>21</td>\n",
       "    </tr>\n",
       "    <tr>\n",
       "      <th>31</th>\n",
       "      <td>{'C': 10, 'degree': 3, 'gamma': 'scale', 'kernel': 'poly'}</td>\n",
       "      <td>19</td>\n",
       "    </tr>\n",
       "    <tr>\n",
       "      <th>32</th>\n",
       "      <td>{'C': 10, 'degree': 3, 'gamma': 'scale', 'kernel': 'rbf'}</td>\n",
       "      <td>13</td>\n",
       "    </tr>\n",
       "    <tr>\n",
       "      <th>33</th>\n",
       "      <td>{'C': 10, 'degree': 3, 'gamma': 'auto', 'kernel': 'linear'}</td>\n",
       "      <td>21</td>\n",
       "    </tr>\n",
       "    <tr>\n",
       "      <th>34</th>\n",
       "      <td>{'C': 10, 'degree': 3, 'gamma': 'auto', 'kernel': 'poly'}</td>\n",
       "      <td>19</td>\n",
       "    </tr>\n",
       "    <tr>\n",
       "      <th>35</th>\n",
       "      <td>{'C': 10, 'degree': 3, 'gamma': 'auto', 'kernel': 'rbf'}</td>\n",
       "      <td>13</td>\n",
       "    </tr>\n",
       "  </tbody>\n",
       "</table>\n",
       "</div>"
      ],
      "text/plain": [
       "                                                          params  \\\n",
       "0   {'C': 1, 'degree': 1, 'gamma': 'scale', 'kernel': 'linear'}    \n",
       "1   {'C': 1, 'degree': 1, 'gamma': 'scale', 'kernel': 'poly'}      \n",
       "2   {'C': 1, 'degree': 1, 'gamma': 'scale', 'kernel': 'rbf'}       \n",
       "3   {'C': 1, 'degree': 1, 'gamma': 'auto', 'kernel': 'linear'}     \n",
       "4   {'C': 1, 'degree': 1, 'gamma': 'auto', 'kernel': 'poly'}       \n",
       "5   {'C': 1, 'degree': 1, 'gamma': 'auto', 'kernel': 'rbf'}        \n",
       "6   {'C': 1, 'degree': 2, 'gamma': 'scale', 'kernel': 'linear'}    \n",
       "7   {'C': 1, 'degree': 2, 'gamma': 'scale', 'kernel': 'poly'}      \n",
       "8   {'C': 1, 'degree': 2, 'gamma': 'scale', 'kernel': 'rbf'}       \n",
       "9   {'C': 1, 'degree': 2, 'gamma': 'auto', 'kernel': 'linear'}     \n",
       "10  {'C': 1, 'degree': 2, 'gamma': 'auto', 'kernel': 'poly'}       \n",
       "11  {'C': 1, 'degree': 2, 'gamma': 'auto', 'kernel': 'rbf'}        \n",
       "12  {'C': 1, 'degree': 3, 'gamma': 'scale', 'kernel': 'linear'}    \n",
       "13  {'C': 1, 'degree': 3, 'gamma': 'scale', 'kernel': 'poly'}      \n",
       "14  {'C': 1, 'degree': 3, 'gamma': 'scale', 'kernel': 'rbf'}       \n",
       "15  {'C': 1, 'degree': 3, 'gamma': 'auto', 'kernel': 'linear'}     \n",
       "16  {'C': 1, 'degree': 3, 'gamma': 'auto', 'kernel': 'poly'}       \n",
       "17  {'C': 1, 'degree': 3, 'gamma': 'auto', 'kernel': 'rbf'}        \n",
       "18  {'C': 10, 'degree': 1, 'gamma': 'scale', 'kernel': 'linear'}   \n",
       "19  {'C': 10, 'degree': 1, 'gamma': 'scale', 'kernel': 'poly'}     \n",
       "20  {'C': 10, 'degree': 1, 'gamma': 'scale', 'kernel': 'rbf'}      \n",
       "21  {'C': 10, 'degree': 1, 'gamma': 'auto', 'kernel': 'linear'}    \n",
       "22  {'C': 10, 'degree': 1, 'gamma': 'auto', 'kernel': 'poly'}      \n",
       "23  {'C': 10, 'degree': 1, 'gamma': 'auto', 'kernel': 'rbf'}       \n",
       "24  {'C': 10, 'degree': 2, 'gamma': 'scale', 'kernel': 'linear'}   \n",
       "25  {'C': 10, 'degree': 2, 'gamma': 'scale', 'kernel': 'poly'}     \n",
       "26  {'C': 10, 'degree': 2, 'gamma': 'scale', 'kernel': 'rbf'}      \n",
       "27  {'C': 10, 'degree': 2, 'gamma': 'auto', 'kernel': 'linear'}    \n",
       "28  {'C': 10, 'degree': 2, 'gamma': 'auto', 'kernel': 'poly'}      \n",
       "29  {'C': 10, 'degree': 2, 'gamma': 'auto', 'kernel': 'rbf'}       \n",
       "30  {'C': 10, 'degree': 3, 'gamma': 'scale', 'kernel': 'linear'}   \n",
       "31  {'C': 10, 'degree': 3, 'gamma': 'scale', 'kernel': 'poly'}     \n",
       "32  {'C': 10, 'degree': 3, 'gamma': 'scale', 'kernel': 'rbf'}      \n",
       "33  {'C': 10, 'degree': 3, 'gamma': 'auto', 'kernel': 'linear'}    \n",
       "34  {'C': 10, 'degree': 3, 'gamma': 'auto', 'kernel': 'poly'}      \n",
       "35  {'C': 10, 'degree': 3, 'gamma': 'auto', 'kernel': 'rbf'}       \n",
       "\n",
       "    rank_test_score  \n",
       "0   21               \n",
       "1   21               \n",
       "2   1                \n",
       "3   21               \n",
       "4   21               \n",
       "5   1                \n",
       "6   21               \n",
       "7   9                \n",
       "8   1                \n",
       "9   21               \n",
       "10  9                \n",
       "11  1                \n",
       "12  21               \n",
       "13  7                \n",
       "14  1                \n",
       "15  21               \n",
       "16  8                \n",
       "17  1                \n",
       "18  21               \n",
       "19  21               \n",
       "20  13               \n",
       "21  21               \n",
       "22  21               \n",
       "23  13               \n",
       "24  21               \n",
       "25  9                \n",
       "26  13               \n",
       "27  21               \n",
       "28  9                \n",
       "29  13               \n",
       "30  21               \n",
       "31  19               \n",
       "32  13               \n",
       "33  21               \n",
       "34  19               \n",
       "35  13               "
      ]
     },
     "execution_count": 43,
     "metadata": {},
     "output_type": "execute_result"
    }
   ],
   "source": [
    "clf.fit(X_train[:1000],y_train[0:1000])\n",
    "pd.set_option('display.max_colwidth',0)\n",
    "res = clf.cv_results_\n",
    "result = pd.DataFrame(res)\n",
    "result[['params','rank_test_score']]\n"
   ]
  },
  {
   "cell_type": "code",
   "execution_count": 44,
   "metadata": {},
   "outputs": [
    {
     "data": {
      "text/plain": [
       "10000"
      ]
     },
     "execution_count": 44,
     "metadata": {},
     "output_type": "execute_result"
    }
   ],
   "source": [
    "X.value_counts().sum()\n"
   ]
  },
  {
   "cell_type": "code",
   "execution_count": 45,
   "metadata": {},
   "outputs": [],
   "source": [
    "modsvm = svm.SVC(kernel = 'rbf', degree = 1, gamma = 'scale' , C =1)"
   ]
  },
  {
   "cell_type": "code",
   "execution_count": 46,
   "metadata": {},
   "outputs": [
    {
     "data": {
      "text/html": [
       "<style>#sk-container-id-1 {color: black;}#sk-container-id-1 pre{padding: 0;}#sk-container-id-1 div.sk-toggleable {background-color: white;}#sk-container-id-1 label.sk-toggleable__label {cursor: pointer;display: block;width: 100%;margin-bottom: 0;padding: 0.3em;box-sizing: border-box;text-align: center;}#sk-container-id-1 label.sk-toggleable__label-arrow:before {content: \"▸\";float: left;margin-right: 0.25em;color: #696969;}#sk-container-id-1 label.sk-toggleable__label-arrow:hover:before {color: black;}#sk-container-id-1 div.sk-estimator:hover label.sk-toggleable__label-arrow:before {color: black;}#sk-container-id-1 div.sk-toggleable__content {max-height: 0;max-width: 0;overflow: hidden;text-align: left;background-color: #f0f8ff;}#sk-container-id-1 div.sk-toggleable__content pre {margin: 0.2em;color: black;border-radius: 0.25em;background-color: #f0f8ff;}#sk-container-id-1 input.sk-toggleable__control:checked~div.sk-toggleable__content {max-height: 200px;max-width: 100%;overflow: auto;}#sk-container-id-1 input.sk-toggleable__control:checked~label.sk-toggleable__label-arrow:before {content: \"▾\";}#sk-container-id-1 div.sk-estimator input.sk-toggleable__control:checked~label.sk-toggleable__label {background-color: #d4ebff;}#sk-container-id-1 div.sk-label input.sk-toggleable__control:checked~label.sk-toggleable__label {background-color: #d4ebff;}#sk-container-id-1 input.sk-hidden--visually {border: 0;clip: rect(1px 1px 1px 1px);clip: rect(1px, 1px, 1px, 1px);height: 1px;margin: -1px;overflow: hidden;padding: 0;position: absolute;width: 1px;}#sk-container-id-1 div.sk-estimator {font-family: monospace;background-color: #f0f8ff;border: 1px dotted black;border-radius: 0.25em;box-sizing: border-box;margin-bottom: 0.5em;}#sk-container-id-1 div.sk-estimator:hover {background-color: #d4ebff;}#sk-container-id-1 div.sk-parallel-item::after {content: \"\";width: 100%;border-bottom: 1px solid gray;flex-grow: 1;}#sk-container-id-1 div.sk-label:hover label.sk-toggleable__label {background-color: #d4ebff;}#sk-container-id-1 div.sk-serial::before {content: \"\";position: absolute;border-left: 1px solid gray;box-sizing: border-box;top: 0;bottom: 0;left: 50%;z-index: 0;}#sk-container-id-1 div.sk-serial {display: flex;flex-direction: column;align-items: center;background-color: white;padding-right: 0.2em;padding-left: 0.2em;position: relative;}#sk-container-id-1 div.sk-item {position: relative;z-index: 1;}#sk-container-id-1 div.sk-parallel {display: flex;align-items: stretch;justify-content: center;background-color: white;position: relative;}#sk-container-id-1 div.sk-item::before, #sk-container-id-1 div.sk-parallel-item::before {content: \"\";position: absolute;border-left: 1px solid gray;box-sizing: border-box;top: 0;bottom: 0;left: 50%;z-index: -1;}#sk-container-id-1 div.sk-parallel-item {display: flex;flex-direction: column;z-index: 1;position: relative;background-color: white;}#sk-container-id-1 div.sk-parallel-item:first-child::after {align-self: flex-end;width: 50%;}#sk-container-id-1 div.sk-parallel-item:last-child::after {align-self: flex-start;width: 50%;}#sk-container-id-1 div.sk-parallel-item:only-child::after {width: 0;}#sk-container-id-1 div.sk-dashed-wrapped {border: 1px dashed gray;margin: 0 0.4em 0.5em 0.4em;box-sizing: border-box;padding-bottom: 0.4em;background-color: white;}#sk-container-id-1 div.sk-label label {font-family: monospace;font-weight: bold;display: inline-block;line-height: 1.2em;}#sk-container-id-1 div.sk-label-container {text-align: center;}#sk-container-id-1 div.sk-container {/* jupyter's `normalize.less` sets `[hidden] { display: none; }` but bootstrap.min.css set `[hidden] { display: none !important; }` so we also need the `!important` here to be able to override the default hidden behavior on the sphinx rendered scikit-learn.org. See: https://github.com/scikit-learn/scikit-learn/issues/21755 */display: inline-block !important;position: relative;}#sk-container-id-1 div.sk-text-repr-fallback {display: none;}</style><div id=\"sk-container-id-1\" class=\"sk-top-container\"><div class=\"sk-text-repr-fallback\"><pre>SVC(C=1, degree=1)</pre><b>In a Jupyter environment, please rerun this cell to show the HTML representation or trust the notebook. <br />On GitHub, the HTML representation is unable to render, please try loading this page with nbviewer.org.</b></div><div class=\"sk-container\" hidden><div class=\"sk-item\"><div class=\"sk-estimator sk-toggleable\"><input class=\"sk-toggleable__control sk-hidden--visually\" id=\"sk-estimator-id-1\" type=\"checkbox\" checked><label for=\"sk-estimator-id-1\" class=\"sk-toggleable__label sk-toggleable__label-arrow\">SVC</label><div class=\"sk-toggleable__content\"><pre>SVC(C=1, degree=1)</pre></div></div></div></div></div>"
      ],
      "text/plain": [
       "SVC(C=1, degree=1)"
      ]
     },
     "execution_count": 46,
     "metadata": {},
     "output_type": "execute_result"
    }
   ],
   "source": [
    "modsvm.fit(X_train,y_train)\n"
   ]
  },
  {
   "cell_type": "code",
   "execution_count": 47,
   "metadata": {},
   "outputs": [],
   "source": [
    "y_pred2 = modsvm.predict(X_test)\n"
   ]
  },
  {
   "cell_type": "code",
   "execution_count": 48,
   "metadata": {},
   "outputs": [
    {
     "data": {
      "text/plain": [
       "0.8564"
      ]
     },
     "execution_count": 48,
     "metadata": {},
     "output_type": "execute_result"
    }
   ],
   "source": [
    "accuracy_score(y_pred2,y_test)\n"
   ]
  },
  {
   "cell_type": "code",
   "execution_count": 49,
   "metadata": {},
   "outputs": [],
   "source": [
    "# ANN = 0.8588 AND SVM = 0.8564 almost same accuracy"
   ]
  }
 ],
 "metadata": {
  "kernelspec": {
   "display_name": "Python 3 (ipykernel)",
   "language": "python",
   "name": "python3"
  },
  "language_info": {
   "codemirror_mode": {
    "name": "ipython",
    "version": 3
   },
   "file_extension": ".py",
   "mimetype": "text/x-python",
   "name": "python",
   "nbconvert_exporter": "python",
   "pygments_lexer": "ipython3",
   "version": "3.11.4"
  }
 },
 "nbformat": 4,
 "nbformat_minor": 4
}
